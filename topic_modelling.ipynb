{
 "cells": [
  {
   "cell_type": "code",
   "execution_count": 2,
   "id": "46043425-08ec-411c-9fae-aacae9c9a049",
   "metadata": {},
   "outputs": [],
   "source": [
    "import pandas as pd\n",
    "import numpy as np\n",
    "import scipy.stats as st\n",
    "import statistics\n",
    "from pathlib import Path\n",
    "import datetime\n",
    "\n",
    "import requests\n",
    "import re\n",
    "import os\n",
    "import sys\n",
    "\n",
    "\n",
    "from multiprocess import Pool\n",
    "import psutil\n",
    "from tqdm import tqdm\n",
    "\n",
    "from bs4 import BeautifulSoup\n",
    "\n",
    "import glob\n",
    "\n",
    "import matplotlib.pyplot as plt"
   ]
  },
  {
   "cell_type": "code",
   "execution_count": null,
   "id": "96fdc413-581b-44af-a945-9bbb122c37c4",
   "metadata": {},
   "outputs": [],
   "source": []
  },
  {
   "cell_type": "code",
   "execution_count": 3,
   "id": "f53a4ecb-ab77-4c79-9b4d-341ebb17c80f",
   "metadata": {},
   "outputs": [
    {
     "name": "stderr",
     "output_type": "stream",
     "text": [
      "/tmp/ipykernel_1060181/1600029537.py:1: DtypeWarning: Columns (28) have mixed types. Specify dtype option on import or set low_memory=False.\n",
      "  data = pd.read_csv('/home/mangermaier/master_thesis_css/selected_groups.csv.gzip', compression = 'gzip')#, nrows = 100000 )\n"
     ]
    }
   ],
   "source": [
    "data = pd.read_csv('/home/mangermaier/master_thesis_css/selected_groups.csv.gzip', compression = 'gzip')#, nrows = 100000 )"
   ]
  },
  {
   "cell_type": "code",
   "execution_count": null,
   "id": "0516c325-2f9d-4059-a31c-81e4768aa3ff",
   "metadata": {},
   "outputs": [],
   "source": []
  },
  {
   "cell_type": "code",
   "execution_count": null,
   "id": "f60be126-75f8-4fbb-9ba7-b1468a824d58",
   "metadata": {},
   "outputs": [],
   "source": [
    "data"
   ]
  },
  {
   "cell_type": "code",
   "execution_count": 18,
   "id": "b3a36ede-3ef1-4132-97a9-fe7788bf6c3d",
   "metadata": {},
   "outputs": [],
   "source": [
    "data['posting_date'] = pd.to_datetime(data['posting_date'], utc=True)"
   ]
  },
  {
   "cell_type": "code",
   "execution_count": null,
   "id": "ef2294f5-1a99-453f-a58d-d0a8e02c8ef6",
   "metadata": {},
   "outputs": [],
   "source": []
  },
  {
   "cell_type": "code",
   "execution_count": 14,
   "id": "d2a50e99-f92c-4d02-9f96-54ca06e2734f",
   "metadata": {},
   "outputs": [],
   "source": [
    "posting_frequency = data.groupby(\"day\").count()\n",
    "posting_frequency = posting_frequency[[\"posting_date\"]]"
   ]
  },
  {
   "cell_type": "code",
   "execution_count": 15,
   "id": "812a9982-8081-43fe-b1b4-0888006fc287",
   "metadata": {},
   "outputs": [
    {
     "data": {
      "text/html": [
       "<iframe\n",
       "    scrolling=\"no\"\n",
       "    width=\"100%\"\n",
       "    height=\"545px\"\n",
       "    src=\"iframe_figures/figure_15.html\"\n",
       "    frameborder=\"0\"\n",
       "    allowfullscreen\n",
       "></iframe>\n"
      ]
     },
     "metadata": {},
     "output_type": "display_data"
    }
   ],
   "source": [
    "import plotly.express as px\n",
    "import plotly.io as pio\n",
    "\n",
    "pio.renderers.default = 'iframe'\n",
    "\n",
    "fig = px.line(posting_frequency, x=posting_frequency.index, y='posting_date')\n",
    "fig.show()"
   ]
  },
  {
   "cell_type": "code",
   "execution_count": 19,
   "id": "afb09f21-bc2a-4c68-baae-f99abdf1c43e",
   "metadata": {},
   "outputs": [
    {
     "data": {
      "text/html": [
       "<iframe\n",
       "    scrolling=\"no\"\n",
       "    width=\"100%\"\n",
       "    height=\"545px\"\n",
       "    src=\"iframe_figures/figure_19.html\"\n",
       "    frameborder=\"0\"\n",
       "    allowfullscreen\n",
       "></iframe>\n"
      ]
     },
     "metadata": {},
     "output_type": "display_data"
    }
   ],
   "source": [
    "ig = px.line(posting_frequency, x=posting_frequency.index, y='posting_date')\n",
    "fig.show()"
   ]
  },
  {
   "cell_type": "code",
   "execution_count": 50,
   "id": "148d1bc1-3571-41ff-b19a-810a872f1ea8",
   "metadata": {},
   "outputs": [
    {
     "data": {
      "text/html": [
       "<div>\n",
       "<style scoped>\n",
       "    .dataframe tbody tr th:only-of-type {\n",
       "        vertical-align: middle;\n",
       "    }\n",
       "\n",
       "    .dataframe tbody tr th {\n",
       "        vertical-align: top;\n",
       "    }\n",
       "\n",
       "    .dataframe thead th {\n",
       "        text-align: right;\n",
       "    }\n",
       "</style>\n",
       "<table border=\"1\" class=\"dataframe\">\n",
       "  <thead>\n",
       "    <tr style=\"text-align: right;\">\n",
       "      <th></th>\n",
       "      <th>Unnamed: 0</th>\n",
       "      <th>uid</th>\n",
       "      <th>mid_message</th>\n",
       "      <th>posting_date</th>\n",
       "      <th>message</th>\n",
       "      <th>fwd_message</th>\n",
       "      <th>fwd_posting_date_message</th>\n",
       "      <th>mid_file</th>\n",
       "      <th>posting_date_file</th>\n",
       "      <th>link_url</th>\n",
       "      <th>...</th>\n",
       "      <th>weekday</th>\n",
       "      <th>message_hash</th>\n",
       "      <th>fwd_message_hash</th>\n",
       "      <th>website</th>\n",
       "      <th>message_id</th>\n",
       "      <th>replied_to</th>\n",
       "      <th>transcribed_message</th>\n",
       "      <th>year</th>\n",
       "      <th>month</th>\n",
       "      <th>day_of_year</th>\n",
       "    </tr>\n",
       "  </thead>\n",
       "  <tbody>\n",
       "    <tr>\n",
       "      <th>0</th>\n",
       "      <td>0</td>\n",
       "      <td>44956832152488193039965</td>\n",
       "      <td>4495.0</td>\n",
       "      <td>2020-04-05 10:03:27+00:00</td>\n",
       "      <td>&lt;strong&gt;‼️‼️❤️‼️‼️❤️‼️‼️  BITTE AN OLIVER JANICH WEITERLEITEN!    &lt;/strong&gt;Lieber Oliver, danke für dieses gutes Video von dir💓 endlich sagt es mal jemand öffentlich das dieser Kanal „unzensiert“ sehr viele  Lügen verbreitet sowie sehr viele negative Dinge über bestimmte Menschen .. oder Menschengruppen !!!  Ich habe vor diesem Kanal schon lange gewarnt!!  Jetzt endlich sagst auch Du es öffentlich ❤️🙏❤️ .. kommt am bei Minute 30:00 des Videos   &lt;a href=\"https://youtu.be/4-6CwDPwmTE\"&gt;https://youtu.be/4-6CwDPwmTE&lt;/a&gt;  &lt;a href=\"https://t.me/Geheimnis_Gesundheit\"&gt;@Geheimnis_Gesundheit&lt;/a&gt;  &lt;a href=\"https://t.me/s/Geheimnis_Gesundheit\"&gt;https://t.me/s/Geheimnis_Gesundheit&lt;/a&gt; - Link ohne telegram-App aufrufbar  Geheimnis der Gesundheit  eure 😇 Angel of Truth</td>\n",
       "      <td>NaN</td>\n",
       "      <td>NaN</td>\n",
       "      <td>4495.0</td>\n",
       "      <td>2020-04-05 10:03:27+00:00</td>\n",
       "      <td>https://youtu.be/4-6CwDPwmTE</td>\n",
       "      <td>...</td>\n",
       "      <td>7.0</td>\n",
       "      <td>9.010954e+18</td>\n",
       "      <td>NaN</td>\n",
       "      <td>youtu.be</td>\n",
       "      <td>4495.0</td>\n",
       "      <td>NaN</td>\n",
       "      <td>NaN</td>\n",
       "      <td>2020.0</td>\n",
       "      <td>4.0</td>\n",
       "      <td>96.0</td>\n",
       "    </tr>\n",
       "    <tr>\n",
       "      <th>1</th>\n",
       "      <td>1</td>\n",
       "      <td>44976832152488193039965</td>\n",
       "      <td>4497.0</td>\n",
       "      <td>2020-04-05 11:12:57+00:00</td>\n",
       "      <td>‼️‼️ACHTUNG‼️‼️ &lt;strong&gt; Satanisten Seite mit Fotos von Jay- Z &lt;/strong&gt;  Satanistischer Illuminati Order  .. sie sagen sie würden helfen ..  eine bessere Welt aufzubauen ..  ihre Fotos sagen jedoch etwas Anderes !!!   Dort gibt es auch Fotos von diesem Rapper Jay - Z auf dieser Seite ...    &lt;a href=\"https://illuminatireligion.com/our-mission/\"&gt;https://illuminatireligion.com/our-mission/&lt;/a&gt;  &lt;a href=\"https://t.me/Geheimnis_Gesundheit\"&gt;@Geheimnis_Gesundheit&lt;/a&gt;  &lt;a href=\"https://t.me/s/Geheimnis_Gesundheit\"&gt;https://t.me/s/Geheimnis_Gesundheit&lt;/a&gt; - Link ohne telegram-App aufrufbar  Geheimnis der Gesundheit  eure 😇 Angel of Truth</td>\n",
       "      <td>NaN</td>\n",
       "      <td>NaN</td>\n",
       "      <td>4497.0</td>\n",
       "      <td>2020-04-05 11:12:57+00:00</td>\n",
       "      <td>https://illuminatireligion.com/our-mission/</td>\n",
       "      <td>...</td>\n",
       "      <td>7.0</td>\n",
       "      <td>2.006496e+18</td>\n",
       "      <td>NaN</td>\n",
       "      <td>illuminatireligion.com</td>\n",
       "      <td>4497.0</td>\n",
       "      <td>NaN</td>\n",
       "      <td>NaN</td>\n",
       "      <td>2020.0</td>\n",
       "      <td>4.0</td>\n",
       "      <td>96.0</td>\n",
       "    </tr>\n",
       "    <tr>\n",
       "      <th>2</th>\n",
       "      <td>2</td>\n",
       "      <td>44986832152488193039965</td>\n",
       "      <td>4498.0</td>\n",
       "      <td>2020-04-05 11:26:07+00:00</td>\n",
       "      <td>&lt;a href=\"https://qlobal-change.blogspot.com/2020/04/putin-trump-gegen-die-neue-weltordnung.html?m=1\"&gt;https://qlobal-change.blogspot.com/2020/04/putin-trump-gegen-die-neue-weltordnung.html?m=1&lt;/a&gt;  &lt;a href=\"https://t.me/Geheimnis_Gesundheit\"&gt;@Geheimnis_Gesundheit&lt;/a&gt;  &lt;a href=\"https://t.me/s/Geheimnis_Gesundheit\"&gt;https://t.me/s/Geheimnis_Gesundheit&lt;/a&gt; - Link ohne telegram-App aufrufbar  Geheimnis der Gesundheit  eure 😇 Angel of Truth</td>\n",
       "      <td>NaN</td>\n",
       "      <td>NaN</td>\n",
       "      <td>4498.0</td>\n",
       "      <td>2020-04-05 11:26:07+00:00</td>\n",
       "      <td>https://qlobal-change.blogspot.com/2020/04/putin-trump-gegen-die-neue-weltordnung.html?m=1</td>\n",
       "      <td>...</td>\n",
       "      <td>7.0</td>\n",
       "      <td>9.522348e+16</td>\n",
       "      <td>NaN</td>\n",
       "      <td>qlobal-change.blogspot.com</td>\n",
       "      <td>4498.0</td>\n",
       "      <td>NaN</td>\n",
       "      <td>NaN</td>\n",
       "      <td>2020.0</td>\n",
       "      <td>4.0</td>\n",
       "      <td>96.0</td>\n",
       "    </tr>\n",
       "    <tr>\n",
       "      <th>3</th>\n",
       "      <td>3</td>\n",
       "      <td>44996832152488193039965</td>\n",
       "      <td>4499.0</td>\n",
       "      <td>2020-04-05 11:27:18+00:00</td>\n",
       "      <td>&lt;a href=\"https://youtu.be/dkklDuUUGzw\"&gt;https://youtu.be/dkklDuUUGzw&lt;/a&gt;  &lt;a href=\"https://t.me/Geheimnis_Gesundheit\"&gt;@Geheimnis_Gesundheit&lt;/a&gt;  &lt;a href=\"https://t.me/s/Geheimnis_Gesundheit\"&gt;https://t.me/s/Geheimnis_Gesundheit&lt;/a&gt; - Link ohne telegram-App aufrufbar  Geheimnis der Gesundheit  eure 😇 Angel of Truth</td>\n",
       "      <td>NaN</td>\n",
       "      <td>NaN</td>\n",
       "      <td>4499.0</td>\n",
       "      <td>2020-04-05 11:27:18+00:00</td>\n",
       "      <td>https://youtu.be/dkklDuUUGzw</td>\n",
       "      <td>...</td>\n",
       "      <td>7.0</td>\n",
       "      <td>-1.990757e+18</td>\n",
       "      <td>NaN</td>\n",
       "      <td>youtu.be</td>\n",
       "      <td>4499.0</td>\n",
       "      <td>NaN</td>\n",
       "      <td>NaN</td>\n",
       "      <td>2020.0</td>\n",
       "      <td>4.0</td>\n",
       "      <td>96.0</td>\n",
       "    </tr>\n",
       "    <tr>\n",
       "      <th>4</th>\n",
       "      <td>4</td>\n",
       "      <td>45006832152488193039965</td>\n",
       "      <td>4500.0</td>\n",
       "      <td>2020-04-05 11:52:12+00:00</td>\n",
       "      <td>&lt;a href=\"https://t.me/Geheimnis_Gesundheit\"&gt;@Geheimnis_Gesundheit&lt;/a&gt;  &lt;a href=\"https://t.me/s/Geheimnis_Gesundheit\"&gt;https://t.me/s/Geheimnis_Gesundheit&lt;/a&gt; - Link ohne telegram-App aufrufbar  Geheimnis der Gesundheit  eure 😇 Angel of Truth</td>\n",
       "      <td>NaN</td>\n",
       "      <td>NaN</td>\n",
       "      <td>4500.0</td>\n",
       "      <td>2020-04-05 11:52:12+00:00</td>\n",
       "      <td>NaN</td>\n",
       "      <td>...</td>\n",
       "      <td>7.0</td>\n",
       "      <td>6.824871e+18</td>\n",
       "      <td>NaN</td>\n",
       "      <td>NaN</td>\n",
       "      <td>4500.0</td>\n",
       "      <td>NaN</td>\n",
       "      <td>NaN</td>\n",
       "      <td>2020.0</td>\n",
       "      <td>4.0</td>\n",
       "      <td>96.0</td>\n",
       "    </tr>\n",
       "    <tr>\n",
       "      <th>5</th>\n",
       "      <td>5</td>\n",
       "      <td>45016832152488193039965</td>\n",
       "      <td>4501.0</td>\n",
       "      <td>2020-04-05 11:52:12+00:00</td>\n",
       "      <td>&lt;a href=\"https://t.me/Geheimnis_Gesundheit\"&gt;@Geheimnis_Gesundheit&lt;/a&gt;  &lt;a href=\"https://t.me/s/Geheimnis_Gesundheit\"&gt;https://t.me/s/Geheimnis_Gesundheit&lt;/a&gt; - Link ohne telegram-App aufrufbar  Geheimnis der Gesundheit  eure 😇 Angel of Truth</td>\n",
       "      <td>NaN</td>\n",
       "      <td>NaN</td>\n",
       "      <td>4501.0</td>\n",
       "      <td>2020-04-05 11:52:12+00:00</td>\n",
       "      <td>NaN</td>\n",
       "      <td>...</td>\n",
       "      <td>7.0</td>\n",
       "      <td>6.824871e+18</td>\n",
       "      <td>NaN</td>\n",
       "      <td>NaN</td>\n",
       "      <td>4501.0</td>\n",
       "      <td>NaN</td>\n",
       "      <td>NaN</td>\n",
       "      <td>2020.0</td>\n",
       "      <td>4.0</td>\n",
       "      <td>96.0</td>\n",
       "    </tr>\n",
       "    <tr>\n",
       "      <th>6</th>\n",
       "      <td>6</td>\n",
       "      <td>45086832152488193039965</td>\n",
       "      <td>4508.0</td>\n",
       "      <td>2020-04-05 11:52:13+00:00</td>\n",
       "      <td>&lt;a href=\"https://t.me/Geheimnis_Gesundheit\"&gt;@Geheimnis_Gesundheit&lt;/a&gt;  &lt;a href=\"https://t.me/s/Geheimnis_Gesundheit\"&gt;https://t.me/s/Geheimnis_Gesundheit&lt;/a&gt; - Link ohne telegram-App aufrufbar  Geheimnis der Gesundheit  eure 😇 Angel of Truth</td>\n",
       "      <td>NaN</td>\n",
       "      <td>NaN</td>\n",
       "      <td>4508.0</td>\n",
       "      <td>2020-04-05 11:52:13+00:00</td>\n",
       "      <td>NaN</td>\n",
       "      <td>...</td>\n",
       "      <td>7.0</td>\n",
       "      <td>6.824871e+18</td>\n",
       "      <td>NaN</td>\n",
       "      <td>NaN</td>\n",
       "      <td>4508.0</td>\n",
       "      <td>NaN</td>\n",
       "      <td>NaN</td>\n",
       "      <td>2020.0</td>\n",
       "      <td>4.0</td>\n",
       "      <td>96.0</td>\n",
       "    </tr>\n",
       "    <tr>\n",
       "      <th>7</th>\n",
       "      <td>7</td>\n",
       "      <td>45126832152488193039965</td>\n",
       "      <td>4512.0</td>\n",
       "      <td>2020-04-05 11:55:20+00:00</td>\n",
       "      <td>Jay - Z Members seit über 10 Jahren !!!  &lt;a href=\"https://t.me/Geheimnis_Gesundheit\"&gt;@Geheimnis_Gesundheit&lt;/a&gt;  &lt;a href=\"https://t.me/s/Geheimnis_Gesundheit\"&gt;https://t.me/s/Geheimnis_Gesundheit&lt;/a&gt; - Link ohne telegram-App aufrufbar  Geheimnis der Gesundheit  eure 😇 Angel of Truth</td>\n",
       "      <td>NaN</td>\n",
       "      <td>NaN</td>\n",
       "      <td>4512.0</td>\n",
       "      <td>2020-04-05 11:55:20+00:00</td>\n",
       "      <td>NaN</td>\n",
       "      <td>...</td>\n",
       "      <td>7.0</td>\n",
       "      <td>4.672644e+18</td>\n",
       "      <td>NaN</td>\n",
       "      <td>NaN</td>\n",
       "      <td>4512.0</td>\n",
       "      <td>NaN</td>\n",
       "      <td>NaN</td>\n",
       "      <td>2020.0</td>\n",
       "      <td>4.0</td>\n",
       "      <td>96.0</td>\n",
       "    </tr>\n",
       "    <tr>\n",
       "      <th>8</th>\n",
       "      <td>8</td>\n",
       "      <td>45136832152488193039965</td>\n",
       "      <td>4513.0</td>\n",
       "      <td>2020-04-05 12:14:01+00:00</td>\n",
       "      <td>&lt;a href=\"https://www.die-lebenskraft.de/hollywood-adrenochrome-ritueller-kindesmissbrauch-und-die-perverse-gier-der-selbsternannten-elite-nach-unsterblichkeit/\"&gt;https://www.die-lebenskraft.de/hollywood-adrenochrome-ritueller-kindesmissbrauch-und-die-perverse-gier-der-selbsternannten-elite-nach-unsterblichkeit/&lt;/a&gt;  &lt;a href=\"https://t.me/Geheimnis_Gesundheit\"&gt;@Geheimnis_Gesundheit&lt;/a&gt;  &lt;a href=\"https://t.me/s/Geheimnis_Gesundheit\"&gt;https://t.me/s/Geheimnis_Gesundheit&lt;/a&gt; - Link ohne telegram-App aufrufbar  Geheimnis der Gesundheit  eure 😇 Angel of Truth</td>\n",
       "      <td>NaN</td>\n",
       "      <td>NaN</td>\n",
       "      <td>4513.0</td>\n",
       "      <td>2020-04-05 12:14:01+00:00</td>\n",
       "      <td>https://www.die-lebenskraft.de/hollywood-adrenochrome-ritueller-kindesmissbrauch-und-die-perverse-gier-der-selbsternannten-elite-nach-unsterblichkeit/</td>\n",
       "      <td>...</td>\n",
       "      <td>7.0</td>\n",
       "      <td>-5.852003e+18</td>\n",
       "      <td>NaN</td>\n",
       "      <td>die-lebenskraft.de</td>\n",
       "      <td>4513.0</td>\n",
       "      <td>NaN</td>\n",
       "      <td>NaN</td>\n",
       "      <td>2020.0</td>\n",
       "      <td>4.0</td>\n",
       "      <td>96.0</td>\n",
       "    </tr>\n",
       "    <tr>\n",
       "      <th>9</th>\n",
       "      <td>9</td>\n",
       "      <td>45146832152488193039965</td>\n",
       "      <td>4514.0</td>\n",
       "      <td>2020-04-05 12:16:18+00:00</td>\n",
       "      <td>Achtet auf Xavier Naidoo‘s Text  &lt;a href=\"https://t.me/Xavier_Naidoo\"&gt;@Xavier_Naidoo&lt;/a&gt;  &lt;a href=\"https://t.me/Geheimnis_Gesundheit\"&gt;@Geheimnis_Gesundheit&lt;/a&gt;  &lt;a href=\"https://t.me/s/Geheimnis_Gesundheit\"&gt;https://t.me/s/Geheimnis_Gesundheit&lt;/a&gt; - Link ohne telegram-App aufrufbar  Geheimnis der Gesundheit  eure 😇 Angel of Truth</td>\n",
       "      <td>NaN</td>\n",
       "      <td>NaN</td>\n",
       "      <td>4514.0</td>\n",
       "      <td>2020-04-05 12:16:18+00:00</td>\n",
       "      <td>NaN</td>\n",
       "      <td>...</td>\n",
       "      <td>7.0</td>\n",
       "      <td>-3.205559e+18</td>\n",
       "      <td>NaN</td>\n",
       "      <td>NaN</td>\n",
       "      <td>4514.0</td>\n",
       "      <td>NaN</td>\n",
       "      <td>NaN</td>\n",
       "      <td>2020.0</td>\n",
       "      <td>4.0</td>\n",
       "      <td>96.0</td>\n",
       "    </tr>\n",
       "  </tbody>\n",
       "</table>\n",
       "<p>10 rows × 32 columns</p>\n",
       "</div>"
      ],
      "text/plain": [
       "   Unnamed: 0                      uid mid_message              posting_date   \n",
       "0           0  44956832152488193039965      4495.0 2020-04-05 10:03:27+00:00  \\\n",
       "1           1  44976832152488193039965      4497.0 2020-04-05 11:12:57+00:00   \n",
       "2           2  44986832152488193039965      4498.0 2020-04-05 11:26:07+00:00   \n",
       "3           3  44996832152488193039965      4499.0 2020-04-05 11:27:18+00:00   \n",
       "4           4  45006832152488193039965      4500.0 2020-04-05 11:52:12+00:00   \n",
       "5           5  45016832152488193039965      4501.0 2020-04-05 11:52:12+00:00   \n",
       "6           6  45086832152488193039965      4508.0 2020-04-05 11:52:13+00:00   \n",
       "7           7  45126832152488193039965      4512.0 2020-04-05 11:55:20+00:00   \n",
       "8           8  45136832152488193039965      4513.0 2020-04-05 12:14:01+00:00   \n",
       "9           9  45146832152488193039965      4514.0 2020-04-05 12:16:18+00:00   \n",
       "\n",
       "                                                                                                                                                                                                                                                                                                                                                                                                                                                                                                                                                                                                                                                                                                                                                                                             message   \n",
       "0  <strong>‼️‼️❤️‼️‼️❤️‼️‼️  BITTE AN OLIVER JANICH WEITERLEITEN!    </strong>Lieber Oliver, danke für dieses gutes Video von dir💓 endlich sagt es mal jemand öffentlich das dieser Kanal „unzensiert“ sehr viele  Lügen verbreitet sowie sehr viele negative Dinge über bestimmte Menschen .. oder Menschengruppen !!!  Ich habe vor diesem Kanal schon lange gewarnt!!  Jetzt endlich sagst auch Du es öffentlich ❤️🙏❤️ .. kommt am bei Minute 30:00 des Videos   <a href=\"https://youtu.be/4-6CwDPwmTE\">https://youtu.be/4-6CwDPwmTE</a>  <a href=\"https://t.me/Geheimnis_Gesundheit\">@Geheimnis_Gesundheit</a>  <a href=\"https://t.me/s/Geheimnis_Gesundheit\">https://t.me/s/Geheimnis_Gesundheit</a> - Link ohne telegram-App aufrufbar  Geheimnis der Gesundheit  eure 😇 Angel of Truth         \\\n",
       "1                                                                                                                                ‼️‼️ACHTUNG‼️‼️ <strong> Satanisten Seite mit Fotos von Jay- Z </strong>  Satanistischer Illuminati Order  .. sie sagen sie würden helfen ..  eine bessere Welt aufzubauen ..  ihre Fotos sagen jedoch etwas Anderes !!!   Dort gibt es auch Fotos von diesem Rapper Jay - Z auf dieser Seite ...    <a href=\"https://illuminatireligion.com/our-mission/\">https://illuminatireligion.com/our-mission/</a>  <a href=\"https://t.me/Geheimnis_Gesundheit\">@Geheimnis_Gesundheit</a>  <a href=\"https://t.me/s/Geheimnis_Gesundheit\">https://t.me/s/Geheimnis_Gesundheit</a> - Link ohne telegram-App aufrufbar  Geheimnis der Gesundheit  eure 😇 Angel of Truth          \n",
       "2                                                                                                                                                                                                                                                                                                                                       <a href=\"https://qlobal-change.blogspot.com/2020/04/putin-trump-gegen-die-neue-weltordnung.html?m=1\">https://qlobal-change.blogspot.com/2020/04/putin-trump-gegen-die-neue-weltordnung.html?m=1</a>  <a href=\"https://t.me/Geheimnis_Gesundheit\">@Geheimnis_Gesundheit</a>  <a href=\"https://t.me/s/Geheimnis_Gesundheit\">https://t.me/s/Geheimnis_Gesundheit</a> - Link ohne telegram-App aufrufbar  Geheimnis der Gesundheit  eure 😇 Angel of Truth          \n",
       "3                                                                                                                                                                                                                                                                                                                                                                                                                                                                   <a href=\"https://youtu.be/dkklDuUUGzw\">https://youtu.be/dkklDuUUGzw</a>  <a href=\"https://t.me/Geheimnis_Gesundheit\">@Geheimnis_Gesundheit</a>  <a href=\"https://t.me/s/Geheimnis_Gesundheit\">https://t.me/s/Geheimnis_Gesundheit</a> - Link ohne telegram-App aufrufbar  Geheimnis der Gesundheit  eure 😇 Angel of Truth          \n",
       "4                                                                                                                                                                                                                                                                                                                                                                                                                                                                                                                                            <a href=\"https://t.me/Geheimnis_Gesundheit\">@Geheimnis_Gesundheit</a>  <a href=\"https://t.me/s/Geheimnis_Gesundheit\">https://t.me/s/Geheimnis_Gesundheit</a> - Link ohne telegram-App aufrufbar  Geheimnis der Gesundheit  eure 😇 Angel of Truth          \n",
       "5                                                                                                                                                                                                                                                                                                                                                                                                                                                                                                                                            <a href=\"https://t.me/Geheimnis_Gesundheit\">@Geheimnis_Gesundheit</a>  <a href=\"https://t.me/s/Geheimnis_Gesundheit\">https://t.me/s/Geheimnis_Gesundheit</a> - Link ohne telegram-App aufrufbar  Geheimnis der Gesundheit  eure 😇 Angel of Truth          \n",
       "6                                                                                                                                                                                                                                                                                                                                                                                                                                                                                                                                            <a href=\"https://t.me/Geheimnis_Gesundheit\">@Geheimnis_Gesundheit</a>  <a href=\"https://t.me/s/Geheimnis_Gesundheit\">https://t.me/s/Geheimnis_Gesundheit</a> - Link ohne telegram-App aufrufbar  Geheimnis der Gesundheit  eure 😇 Angel of Truth          \n",
       "7                                                                                                                                                                                                                                                                                                                                                                                                                                                                                                   Jay - Z Members seit über 10 Jahren !!!  <a href=\"https://t.me/Geheimnis_Gesundheit\">@Geheimnis_Gesundheit</a>  <a href=\"https://t.me/s/Geheimnis_Gesundheit\">https://t.me/s/Geheimnis_Gesundheit</a> - Link ohne telegram-App aufrufbar  Geheimnis der Gesundheit  eure 😇 Angel of Truth          \n",
       "8                                                                                                                                                                                                               <a href=\"https://www.die-lebenskraft.de/hollywood-adrenochrome-ritueller-kindesmissbrauch-und-die-perverse-gier-der-selbsternannten-elite-nach-unsterblichkeit/\">https://www.die-lebenskraft.de/hollywood-adrenochrome-ritueller-kindesmissbrauch-und-die-perverse-gier-der-selbsternannten-elite-nach-unsterblichkeit/</a>  <a href=\"https://t.me/Geheimnis_Gesundheit\">@Geheimnis_Gesundheit</a>  <a href=\"https://t.me/s/Geheimnis_Gesundheit\">https://t.me/s/Geheimnis_Gesundheit</a> - Link ohne telegram-App aufrufbar  Geheimnis der Gesundheit  eure 😇 Angel of Truth          \n",
       "9                                                                                                                                                                                                                                                                                                                                                                                                                                                  Achtet auf Xavier Naidoo‘s Text  <a href=\"https://t.me/Xavier_Naidoo\">@Xavier_Naidoo</a>  <a href=\"https://t.me/Geheimnis_Gesundheit\">@Geheimnis_Gesundheit</a>  <a href=\"https://t.me/s/Geheimnis_Gesundheit\">https://t.me/s/Geheimnis_Gesundheit</a> - Link ohne telegram-App aufrufbar  Geheimnis der Gesundheit  eure 😇 Angel of Truth          \n",
       "\n",
       "   fwd_message fwd_posting_date_message  mid_file          posting_date_file   \n",
       "0          NaN                      NaN    4495.0  2020-04-05 10:03:27+00:00  \\\n",
       "1          NaN                      NaN    4497.0  2020-04-05 11:12:57+00:00   \n",
       "2          NaN                      NaN    4498.0  2020-04-05 11:26:07+00:00   \n",
       "3          NaN                      NaN    4499.0  2020-04-05 11:27:18+00:00   \n",
       "4          NaN                      NaN    4500.0  2020-04-05 11:52:12+00:00   \n",
       "5          NaN                      NaN    4501.0  2020-04-05 11:52:12+00:00   \n",
       "6          NaN                      NaN    4508.0  2020-04-05 11:52:13+00:00   \n",
       "7          NaN                      NaN    4512.0  2020-04-05 11:55:20+00:00   \n",
       "8          NaN                      NaN    4513.0  2020-04-05 12:14:01+00:00   \n",
       "9          NaN                      NaN    4514.0  2020-04-05 12:16:18+00:00   \n",
       "\n",
       "                                                                                                                                                 link_url   \n",
       "0                                                                                                                            https://youtu.be/4-6CwDPwmTE  \\\n",
       "1                                                                                                             https://illuminatireligion.com/our-mission/   \n",
       "2                                                              https://qlobal-change.blogspot.com/2020/04/putin-trump-gegen-die-neue-weltordnung.html?m=1   \n",
       "3                                                                                                                            https://youtu.be/dkklDuUUGzw   \n",
       "4                                                                                                                                                     NaN   \n",
       "5                                                                                                                                                     NaN   \n",
       "6                                                                                                                                                     NaN   \n",
       "7                                                                                                                                                     NaN   \n",
       "8  https://www.die-lebenskraft.de/hollywood-adrenochrome-ritueller-kindesmissbrauch-und-die-perverse-gier-der-selbsternannten-elite-nach-unsterblichkeit/   \n",
       "9                                                                                                                                                     NaN   \n",
       "\n",
       "   ... weekday  message_hash fwd_message_hash                     website   \n",
       "0  ...     7.0  9.010954e+18              NaN                    youtu.be  \\\n",
       "1  ...     7.0  2.006496e+18              NaN      illuminatireligion.com   \n",
       "2  ...     7.0  9.522348e+16              NaN  qlobal-change.blogspot.com   \n",
       "3  ...     7.0 -1.990757e+18              NaN                    youtu.be   \n",
       "4  ...     7.0  6.824871e+18              NaN                         NaN   \n",
       "5  ...     7.0  6.824871e+18              NaN                         NaN   \n",
       "6  ...     7.0  6.824871e+18              NaN                         NaN   \n",
       "7  ...     7.0  4.672644e+18              NaN                         NaN   \n",
       "8  ...     7.0 -5.852003e+18              NaN          die-lebenskraft.de   \n",
       "9  ...     7.0 -3.205559e+18              NaN                         NaN   \n",
       "\n",
       "  message_id replied_to transcribed_message    year  month  day_of_year  \n",
       "0     4495.0        NaN                 NaN  2020.0    4.0         96.0  \n",
       "1     4497.0        NaN                 NaN  2020.0    4.0         96.0  \n",
       "2     4498.0        NaN                 NaN  2020.0    4.0         96.0  \n",
       "3     4499.0        NaN                 NaN  2020.0    4.0         96.0  \n",
       "4     4500.0        NaN                 NaN  2020.0    4.0         96.0  \n",
       "5     4501.0        NaN                 NaN  2020.0    4.0         96.0  \n",
       "6     4508.0        NaN                 NaN  2020.0    4.0         96.0  \n",
       "7     4512.0        NaN                 NaN  2020.0    4.0         96.0  \n",
       "8     4513.0        NaN                 NaN  2020.0    4.0         96.0  \n",
       "9     4514.0        NaN                 NaN  2020.0    4.0         96.0  \n",
       "\n",
       "[10 rows x 32 columns]"
      ]
     },
     "execution_count": 50,
     "metadata": {},
     "output_type": "execute_result"
    }
   ],
   "source": [
    "data.head(10)"
   ]
  },
  {
   "cell_type": "code",
   "execution_count": 20,
   "id": "35e8ec70-a269-4c14-9937-8e06de626248",
   "metadata": {},
   "outputs": [],
   "source": [
    "data[\"day\"] = data[\"posting_date\"].dt.floor('D') + pd.Timedelta(12, unit='h')"
   ]
  },
  {
   "cell_type": "code",
   "execution_count": 21,
   "id": "687d4f36-1110-4321-bbe6-fd84f5ad2a28",
   "metadata": {},
   "outputs": [],
   "source": [
    "data[\"year\"] = data[\"posting_date\"].dt.year"
   ]
  },
  {
   "cell_type": "code",
   "execution_count": 22,
   "id": "80297440-1555-4e9b-a8e1-0882df995686",
   "metadata": {},
   "outputs": [],
   "source": [
    "data[\"month\"] = data[\"posting_date\"].dt.month"
   ]
  },
  {
   "cell_type": "code",
   "execution_count": 23,
   "id": "912b1e56-a863-459a-b7ed-16b0fff3942f",
   "metadata": {},
   "outputs": [],
   "source": [
    "data[\"week\"] = data[\"posting_date\"].dt.isocalendar().week"
   ]
  },
  {
   "cell_type": "code",
   "execution_count": 24,
   "id": "9c9f1b54-0a3b-4c8f-af84-5476ac2e0487",
   "metadata": {},
   "outputs": [],
   "source": [
    "data[\"day_of_year\"] = data[\"posting_date\"].dt.dayofyear"
   ]
  },
  {
   "cell_type": "code",
   "execution_count": 25,
   "id": "935ccee8-9048-4de9-bc8a-68fabee47ee5",
   "metadata": {},
   "outputs": [],
   "source": [
    "def link_removal(some_string):\n",
    "    some_string = re.sub(\"<a.*?a>\", \"\", some_string)\n",
    "    some_string = re.sub(\"<code>.*?</code>\", \"\", some_string)\n",
    "    some_string = re.sub(\"<.*?>\", \"\", some_string)\n",
    "\n",
    "    return some_string"
   ]
  },
  {
   "cell_type": "code",
   "execution_count": 26,
   "id": "c6d15530-fa78-4ec0-9c5a-e5c4e3387c36",
   "metadata": {},
   "outputs": [],
   "source": [
    "def get_date(day, year):\n",
    "\n",
    "    date = datetime.datetime(int(year), 1, 1) + datetime.timedelta(int(day) - 1)\n",
    "    \n",
    "    return date"
   ]
  },
  {
   "cell_type": "code",
   "execution_count": 27,
   "id": "6dde3f59-b743-475c-b597-ba2f47a661e7",
   "metadata": {},
   "outputs": [],
   "source": [
    "def get_date_of_first_weekday(week, year):\n",
    " \n",
    "    date = datetime.datetime.strptime(f'{int(year)}-W{int(week)}-1', '%G-W%V-%u').date()\n",
    "    \n",
    "    return date"
   ]
  },
  {
   "cell_type": "code",
   "execution_count": 28,
   "id": "149f3641-d44e-475d-b09f-f3debe5c0b75",
   "metadata": {},
   "outputs": [],
   "source": [
    "def get_date_of_first_monthday(month, year):\n",
    "\n",
    "    date = datetime.datetime(int(year), int(month), 1).date()\n",
    "    \n",
    "    return date"
   ]
  },
  {
   "cell_type": "code",
   "execution_count": 29,
   "id": "fe5a4c85-9a95-4c77-80ff-33221427bd0b",
   "metadata": {},
   "outputs": [],
   "source": [
    "def first_day_of_denominator_as_datetime(part, year, denominator):\n",
    "    \n",
    "    if denominator == 'day_of_year':\n",
    "        return get_date(part, year)\n",
    "    elif denominator == 'week':\n",
    "        return get_date_of_first_weekday(part, year)\n",
    "    elif denominator == 'month':\n",
    "        return get_date_of_first_monthday(part, year)\n",
    "    else:\n",
    "        #dummy date to filter out\n",
    "        return datetime.datetime(1970, 1, 1).date()\n",
    "    "
   ]
  },
  {
   "cell_type": "code",
   "execution_count": null,
   "id": "939ca1fd-f22c-49f2-b2f6-50fad9c601a8",
   "metadata": {},
   "outputs": [],
   "source": []
  },
  {
   "cell_type": "code",
   "execution_count": 30,
   "id": "554d5867-cfe1-4b1f-b935-ad9e361c5c9e",
   "metadata": {},
   "outputs": [],
   "source": [
    "#function to create a df with concatenated text documents\n",
    "#chats from each day, week, or month can be concatenated to a text document\n",
    "\n",
    "def create_text_df(denominator, df):\n",
    "    \n",
    "    text_df = pd.DataFrame(columns=[\"group_name\", \"denominator\", \"year\", \"messages\", \"date\"]) # Add if working with whisper transcriptions , \"transcribed_message\"])\n",
    "\n",
    "    group_names = list(df[\"group_name\"].dropna().unique())#[3:4]\n",
    "    denom = list(df[denominator].dropna().unique())#[:20]\n",
    "    year = list(df['year'].dropna().unique())#[1:2]\n",
    "\n",
    "    for g in tqdm(group_names):\n",
    "        group = g\n",
    "        for y in year:\n",
    "            for d in denom:\n",
    "                build_text = df.loc[(df[\"group_name\"] == g) & (df[denominator] == d) & (df[\"year\"] == y)]             \n",
    "                if len(build_text) > 0: \n",
    "                    \n",
    "                    date = first_day_of_denominator_as_datetime(d, y, denominator)\n",
    "                    \n",
    "                    build_text.loc[:, \"message\"] = build_text[\"message\"].fillna(\"\")\n",
    "                    #build_text.loc[:, \"message\"] = build_text[\"message\"].apply(link_removal)\n",
    "                    build_text.loc[:, \"fwd_message\"] = build_text[\"fwd_message\"].fillna(\"\")\n",
    "                    #build_text.loc[:, \"fwd_message\"] = build_text[\"fwd_message\"].apply(link_removal)\n",
    "                    #build_text[\"transcribed_message\"] = build_text[\"transcribed_message\"].fillna(\"\")\n",
    "                    #build_text[\"transcribed_message\"] = build_text[\"transcribed_message\"].apply(link_removal)\n",
    "                    messages = \" \".join(build_text[\"message\"].to_list())+\" \" + \" \".join(build_text[\"fwd_message\"].to_list()) # + \" \".join(build_text[\"transcribed_message\"].to_list())\n",
    "\n",
    "                    new_row = len(text_df)\n",
    "                    #print(group, d, y, date)\n",
    "                    \n",
    "                    text_df.loc[new_row] = [group, d, y, messages, date]\n",
    "                    \n",
    "                    \n",
    "\n",
    "    return text_df\n",
    "\n",
    "    #except: \n",
    "    #    return 'Type in valid denominator as string. Valid denominators are day_of_year, week, month'"
   ]
  },
  {
   "cell_type": "code",
   "execution_count": 31,
   "id": "d36e81f5-3af7-409d-b9c0-74546653bbe0",
   "metadata": {},
   "outputs": [
    {
     "name": "stderr",
     "output_type": "stream",
     "text": [
      "100%|███████████████████████████████████████████████████████████████████████████████████| 26/26 [00:12<00:00,  2.05it/s]\n"
     ]
    }
   ],
   "source": [
    "text_df = create_text_df('month', data)"
   ]
  },
  {
   "cell_type": "code",
   "execution_count": 32,
   "id": "677e3bfb-86ce-4de2-8486-20ba7b81ed90",
   "metadata": {},
   "outputs": [
    {
     "data": {
      "text/html": [
       "<div>\n",
       "<style scoped>\n",
       "    .dataframe tbody tr th:only-of-type {\n",
       "        vertical-align: middle;\n",
       "    }\n",
       "\n",
       "    .dataframe tbody tr th {\n",
       "        vertical-align: top;\n",
       "    }\n",
       "\n",
       "    .dataframe thead th {\n",
       "        text-align: right;\n",
       "    }\n",
       "</style>\n",
       "<table border=\"1\" class=\"dataframe\">\n",
       "  <thead>\n",
       "    <tr style=\"text-align: right;\">\n",
       "      <th></th>\n",
       "      <th>group_name</th>\n",
       "      <th>denominator</th>\n",
       "      <th>year</th>\n",
       "      <th>messages</th>\n",
       "      <th>date</th>\n",
       "    </tr>\n",
       "  </thead>\n",
       "  <tbody>\n",
       "    <tr>\n",
       "      <th>0</th>\n",
       "      <td>🍃🌺 GᕮᕼᕮIᗰᑎIS 💫 ᗪᕮᖇ GᕮSᑌᑎᗪᕼᕮIT 🌺🍃</td>\n",
       "      <td>4.0</td>\n",
       "      <td>2020.0</td>\n",
       "      <td>‼️‼️❤️‼️‼️❤️‼️‼️  BITTE AN OLIVER JANICH WEITE...</td>\n",
       "      <td>2020-04-01</td>\n",
       "    </tr>\n",
       "    <tr>\n",
       "      <th>1</th>\n",
       "      <td>USWTV - Videoarchiv</td>\n",
       "      <td>5.0</td>\n",
       "      <td>2021.0</td>\n",
       "      <td>2036 - Das Ende der reptiloiden Schreckensherr...</td>\n",
       "      <td>2021-05-01</td>\n",
       "    </tr>\n",
       "    <tr>\n",
       "      <th>2</th>\n",
       "      <td>Stop-BRD Chat</td>\n",
       "      <td>9.0</td>\n",
       "      <td>2020.0</td>\n",
       "      <td>Danke ich schaue es mir noch mal in Ruhe an. V...</td>\n",
       "      <td>2020-09-01</td>\n",
       "    </tr>\n",
       "    <tr>\n",
       "      <th>3</th>\n",
       "      <td>Stop-BRD Chat</td>\n",
       "      <td>8.0</td>\n",
       "      <td>2020.0</td>\n",
       "      <td>Was haltet ihr davon ?        🙌☺️👍        Wi...</td>\n",
       "      <td>2020-08-01</td>\n",
       "    </tr>\n",
       "    <tr>\n",
       "      <th>4</th>\n",
       "      <td>Stop-BRD Chat</td>\n",
       "      <td>7.0</td>\n",
       "      <td>2020.0</td>\n",
       "      <td>Hallo alle👋🏼        Hallo        Hey, prima k...</td>\n",
       "      <td>2020-07-01</td>\n",
       "    </tr>\n",
       "    <tr>\n",
       "      <th>...</th>\n",
       "      <td>...</td>\n",
       "      <td>...</td>\n",
       "      <td>...</td>\n",
       "      <td>...</td>\n",
       "      <td>...</td>\n",
       "    </tr>\n",
       "    <tr>\n",
       "      <th>171</th>\n",
       "      <td>GEMEINSAMER ANTI CORONALÜGEN - SIEG CHAT! ZUM ...</td>\n",
       "      <td>5.0</td>\n",
       "      <td>2021.0</td>\n",
       "      <td>🎼 👊✊        Hallo        🔴 Aufkleber zum ausdr...</td>\n",
       "      <td>2021-05-01</td>\n",
       "    </tr>\n",
       "    <tr>\n",
       "      <th>172</th>\n",
       "      <td>🧩 SPANDAU steht AUF!</td>\n",
       "      <td>4.0</td>\n",
       "      <td>2021.0</td>\n",
       "      <td>hab hier auf arbeit gerade meinen spaß mit den...</td>\n",
       "      <td>2021-04-01</td>\n",
       "    </tr>\n",
       "    <tr>\n",
       "      <th>173</th>\n",
       "      <td>🧩 SPANDAU steht AUF!</td>\n",
       "      <td>5.0</td>\n",
       "      <td>2021.0</td>\n",
       "      <td>Ich habe tatsächlich schon Angebote zu gefälsc...</td>\n",
       "      <td>2021-05-01</td>\n",
       "    </tr>\n",
       "    <tr>\n",
       "      <th>174</th>\n",
       "      <td>🧩 SPANDAU steht AUF!</td>\n",
       "      <td>6.0</td>\n",
       "      <td>2021.0</td>\n",
       "      <td>❗️❗️❗️ HILFE BENÖTIGT ❗️❗️Hat einer von euch L...</td>\n",
       "      <td>2021-06-01</td>\n",
       "    </tr>\n",
       "    <tr>\n",
       "      <th>175</th>\n",
       "      <td>🧩 SPANDAU steht AUF!</td>\n",
       "      <td>7.0</td>\n",
       "      <td>2021.0</td>\n",
       "      <td>Herzlich willkommen  - ,  wenn du unsere Grupp...</td>\n",
       "      <td>2021-07-01</td>\n",
       "    </tr>\n",
       "  </tbody>\n",
       "</table>\n",
       "<p>176 rows × 5 columns</p>\n",
       "</div>"
      ],
      "text/plain": [
       "                                            group_name  denominator    year   \n",
       "0                     🍃🌺 GᕮᕼᕮIᗰᑎIS 💫 ᗪᕮᖇ GᕮSᑌᑎᗪᕼᕮIT 🌺🍃          4.0  2020.0  \\\n",
       "1                                  USWTV - Videoarchiv          5.0  2021.0   \n",
       "2                                        Stop-BRD Chat          9.0  2020.0   \n",
       "3                                        Stop-BRD Chat          8.0  2020.0   \n",
       "4                                        Stop-BRD Chat          7.0  2020.0   \n",
       "..                                                 ...          ...     ...   \n",
       "171  GEMEINSAMER ANTI CORONALÜGEN - SIEG CHAT! ZUM ...          5.0  2021.0   \n",
       "172                               🧩 SPANDAU steht AUF!          4.0  2021.0   \n",
       "173                               🧩 SPANDAU steht AUF!          5.0  2021.0   \n",
       "174                               🧩 SPANDAU steht AUF!          6.0  2021.0   \n",
       "175                               🧩 SPANDAU steht AUF!          7.0  2021.0   \n",
       "\n",
       "                                              messages        date  \n",
       "0    ‼️‼️❤️‼️‼️❤️‼️‼️  BITTE AN OLIVER JANICH WEITE...  2020-04-01  \n",
       "1    2036 - Das Ende der reptiloiden Schreckensherr...  2021-05-01  \n",
       "2    Danke ich schaue es mir noch mal in Ruhe an. V...  2020-09-01  \n",
       "3      Was haltet ihr davon ?        🙌☺️👍        Wi...  2020-08-01  \n",
       "4     Hallo alle👋🏼        Hallo        Hey, prima k...  2020-07-01  \n",
       "..                                                 ...         ...  \n",
       "171  🎼 👊✊        Hallo        🔴 Aufkleber zum ausdr...  2021-05-01  \n",
       "172  hab hier auf arbeit gerade meinen spaß mit den...  2021-04-01  \n",
       "173  Ich habe tatsächlich schon Angebote zu gefälsc...  2021-05-01  \n",
       "174  ❗️❗️❗️ HILFE BENÖTIGT ❗️❗️Hat einer von euch L...  2021-06-01  \n",
       "175  Herzlich willkommen  - ,  wenn du unsere Grupp...  2021-07-01  \n",
       "\n",
       "[176 rows x 5 columns]"
      ]
     },
     "execution_count": 32,
     "metadata": {},
     "output_type": "execute_result"
    }
   ],
   "source": [
    "text_df"
   ]
  },
  {
   "cell_type": "code",
   "execution_count": null,
   "id": "49ad0c70-2ca9-4237-a598-c7cd050e3a76",
   "metadata": {},
   "outputs": [],
   "source": []
  },
  {
   "cell_type": "code",
   "execution_count": null,
   "id": "8a661388-5df5-4091-a88c-08f6ff6fb771",
   "metadata": {},
   "outputs": [],
   "source": []
  },
  {
   "cell_type": "code",
   "execution_count": null,
   "id": "d7e676ab-8c0c-4e8b-98dc-fd2d75fc9b03",
   "metadata": {},
   "outputs": [],
   "source": []
  },
  {
   "cell_type": "code",
   "execution_count": null,
   "id": "2ec4187c-4d2e-4787-9e16-1d5275f83235",
   "metadata": {},
   "outputs": [],
   "source": []
  },
  {
   "cell_type": "code",
   "execution_count": null,
   "id": "9946cbb1-0937-458c-a535-536fe463dcae",
   "metadata": {},
   "outputs": [],
   "source": [
    "\n"
   ]
  },
  {
   "cell_type": "code",
   "execution_count": null,
   "id": "2123e06b-30a9-4ab0-af40-7c53cd0f7e75",
   "metadata": {},
   "outputs": [],
   "source": []
  },
  {
   "cell_type": "code",
   "execution_count": null,
   "id": "879206ea-7cbd-4c84-a99c-aaaa0f552052",
   "metadata": {},
   "outputs": [],
   "source": []
  },
  {
   "cell_type": "code",
   "execution_count": null,
   "id": "c91f9687-0899-4033-b7df-eae11949d9bc",
   "metadata": {},
   "outputs": [],
   "source": []
  },
  {
   "cell_type": "code",
   "execution_count": 6,
   "id": "1c5d0d10-5544-45df-9b69-464732b34427",
   "metadata": {},
   "outputs": [
    {
     "data": {
      "text/plain": [
       "'\\nimport random\\n\\nrandom.seed(42)\\n\\ngroups = data[\"group_name\"].dropna().unique().tolist()\\nrandom_groups = random.sample(groups, 10)\\n\\nsampled_df = text_df[text_df[\"group_name\"].isin(random_groups)].reset_index()\\n\\ndoc_list = sampled_df[\"messages\"].to_list()\\ndate_list = sampled_df[\"day\"] +.to_list()\\n'"
      ]
     },
     "execution_count": 6,
     "metadata": {},
     "output_type": "execute_result"
    }
   ],
   "source": [
    "#use only with large dataset to get a randomized sub-sample\n",
    "#######################################!!!########################################\n",
    "'''\n",
    "import random\n",
    "\n",
    "random.seed(42)\n",
    "\n",
    "groups = data[\"group_name\"].dropna().unique().tolist()\n",
    "random_groups = random.sample(groups, 10)\n",
    "\n",
    "sampled_df = text_df[text_df[\"group_name\"].isin(random_groups)].reset_index()\n",
    "\n",
    "doc_list = sampled_df[\"messages\"].to_list()\n",
    "date_list = sampled_df[\"day\"] +.to_list()\n",
    "'''\n",
    "########################################!!!#######################################"
   ]
  },
  {
   "cell_type": "code",
   "execution_count": 33,
   "id": "93744843-d4c4-4443-a8ef-37686ab4f9d4",
   "metadata": {},
   "outputs": [
    {
     "data": {
      "text/plain": [
       "0      2020-03-30\n",
       "1      2021-05-03\n",
       "2      2020-09-21\n",
       "3      2020-08-17\n",
       "4      2020-08-24\n",
       "          ...    \n",
       "285    2021-08-02\n",
       "286    2021-09-13\n",
       "287    2021-09-20\n",
       "288    2021-09-06\n",
       "289    2021-10-11\n",
       "Name: date, Length: 290, dtype: object"
      ]
     },
     "execution_count": 33,
     "metadata": {},
     "output_type": "execute_result"
    }
   ],
   "source": [
    "text_df.date"
   ]
  },
  {
   "cell_type": "code",
   "execution_count": null,
   "id": "6ab003fa-66d3-49d3-a8d0-e271056174e6",
   "metadata": {},
   "outputs": [],
   "source": []
  },
  {
   "cell_type": "code",
   "execution_count": 79,
   "id": "ab4ee20a-83e0-4919-bf0a-4a9a5bb646a9",
   "metadata": {},
   "outputs": [],
   "source": [
    "doc_list = text_df[\"messages\"].tolist()\n",
    "date_list = text_df[\"date\"].apply(lambda x: x.strftime(\"%d-%m-%Y %H:%M:%S\")).tolist()"
   ]
  },
  {
   "cell_type": "code",
   "execution_count": null,
   "id": "0b32fcb8-aa2a-4699-bc03-8cb12a813a1f",
   "metadata": {},
   "outputs": [],
   "source": []
  },
  {
   "cell_type": "code",
   "execution_count": 80,
   "id": "88191e92-6427-4a60-b08f-c0c8a1ffbfd5",
   "metadata": {},
   "outputs": [
    {
     "name": "stderr",
     "output_type": "stream",
     "text": [
      "[nltk_data] Downloading package stopwords to\n",
      "[nltk_data]     /home/mangermaier/nltk_data...\n",
      "[nltk_data]   Package stopwords is already up-to-date!\n"
     ]
    }
   ],
   "source": [
    "import nltk\n",
    "nltk.download('stopwords')\n",
    "from nltk.corpus import stopwords\n",
    "\n",
    "from bertopic import BERTopic\n",
    "\n",
    "from sklearn.feature_extraction.text import CountVectorizer\n",
    "from sentence_transformers import SentenceTransformer\n",
    "from umap import UMAP\n",
    "from hdbscan import HDBSCAN\n",
    "\n",
    "german_stop_words = stopwords.words('german')\n",
    "\n",
    "vectorizer_model = CountVectorizer(ngram_range=(1, 2), stop_words= german_stop_words)\n",
    "umap_model = UMAP(n_neighbors=10, n_components =2, metric=\"cosine\", min_dist=0.0)\n",
    "hdbscan_model = HDBSCAN(min_cluster_size=5, metric=\"euclidean\", prediction_data=True)\n"
   ]
  },
  {
   "cell_type": "code",
   "execution_count": 81,
   "id": "c4e17584-e271-494b-8644-f3ffa20887a3",
   "metadata": {},
   "outputs": [],
   "source": [
    "topic_model = BERTopic(language=\"german\",\n",
    "                       vectorizer_model=vectorizer_model,\n",
    "                       hdbscan_model=hdbscan_model,\n",
    "                       umap_model=umap_model,\n",
    "                       calculate_probabilities=False,\n",
    "                       verbose=True)"
   ]
  },
  {
   "cell_type": "code",
   "execution_count": 82,
   "id": "aa14f987-b455-498f-9abd-10f09ebacca5",
   "metadata": {},
   "outputs": [
    {
     "data": {
      "text/plain": [
       "'01-04-2020 00:00:00'"
      ]
     },
     "execution_count": 82,
     "metadata": {},
     "output_type": "execute_result"
    }
   ],
   "source": [
    "date_list[0]"
   ]
  },
  {
   "cell_type": "code",
   "execution_count": 83,
   "id": "272b5fb6-aeb1-4560-93b5-148d68f292f6",
   "metadata": {},
   "outputs": [
    {
     "data": {
      "application/vnd.jupyter.widget-view+json": {
       "model_id": "c7754e3708ef407996abb0c5e501da1d",
       "version_major": 2,
       "version_minor": 0
      },
      "text/plain": [
       "Batches:   0%|          | 0/58 [00:00<?, ?it/s]"
      ]
     },
     "metadata": {},
     "output_type": "display_data"
    },
    {
     "name": "stderr",
     "output_type": "stream",
     "text": [
      "2023-04-20 15:04:22,208 - BERTopic - Transformed documents to Embeddings\n",
      "2023-04-20 15:04:35,143 - BERTopic - Reduced dimensionality\n",
      "2023-04-20 15:04:35,218 - BERTopic - Clustered reduced embeddings\n"
     ]
    }
   ],
   "source": [
    "topics = topic_model.fit_transform(doc_list)"
   ]
  },
  {
   "cell_type": "code",
   "execution_count": 84,
   "id": "0771cc7c-4ce5-4251-84d8-3077e8183945",
   "metadata": {},
   "outputs": [
    {
     "name": "stderr",
     "output_type": "stream",
     "text": [
      "100%|███████████████████████████████████████████████████████████████████████████████████| 72/72 [01:34<00:00,  1.31s/it]\n"
     ]
    }
   ],
   "source": [
    "hierarchical_topics = topic_model.hierarchical_topics(doc_list)\n",
    "vis_topics = topic_model.visualize_hierarchical_documents(doc_list, hierarchical_topics)"
   ]
  },
  {
   "cell_type": "code",
   "execution_count": null,
   "id": "04816e5d-99d5-4086-aae2-940688eb8c16",
   "metadata": {},
   "outputs": [
    {
     "name": "stderr",
     "output_type": "stream",
     "text": [
      "5it [25:45, 473.92s/it]"
     ]
    }
   ],
   "source": [
    "topics_over_time = topic_model.topics_over_time(doc_list, date_list, nr_bins=20)"
   ]
  },
  {
   "cell_type": "code",
   "execution_count": null,
   "id": "f32a4d0b-89d6-40f5-8b16-e0281fca34ac",
   "metadata": {},
   "outputs": [],
   "source": [
    "topic_model.visualize_topics_over_time(topics_over_time, top_n_topics=20)"
   ]
  },
  {
   "cell_type": "code",
   "execution_count": null,
   "id": "aec9a691-cf2e-4e91-8a68-1bc89ecfdb04",
   "metadata": {},
   "outputs": [],
   "source": [
    "vis_topics"
   ]
  },
  {
   "cell_type": "code",
   "execution_count": 231,
   "id": "fcc0fc68-2785-4260-b4e3-966c2f894648",
   "metadata": {},
   "outputs": [
    {
     "data": {
      "text/html": [
       "<div>\n",
       "<style scoped>\n",
       "    .dataframe tbody tr th:only-of-type {\n",
       "        vertical-align: middle;\n",
       "    }\n",
       "\n",
       "    .dataframe tbody tr th {\n",
       "        vertical-align: top;\n",
       "    }\n",
       "\n",
       "    .dataframe thead th {\n",
       "        text-align: right;\n",
       "    }\n",
       "</style>\n",
       "<table border=\"1\" class=\"dataframe\">\n",
       "  <thead>\n",
       "    <tr style=\"text-align: right;\">\n",
       "      <th></th>\n",
       "      <th>Topic</th>\n",
       "      <th>Count</th>\n",
       "      <th>Name</th>\n",
       "    </tr>\n",
       "  </thead>\n",
       "  <tbody>\n",
       "    <tr>\n",
       "      <th>0</th>\n",
       "      <td>-1</td>\n",
       "      <td>174</td>\n",
       "      <td>-1_at_ja_mal_schon</td>\n",
       "    </tr>\n",
       "    <tr>\n",
       "      <th>1</th>\n",
       "      <td>0</td>\n",
       "      <td>51</td>\n",
       "      <td>0_red rainbow_rainbow_red_</td>\n",
       "    </tr>\n",
       "    <tr>\n",
       "      <th>2</th>\n",
       "      <td>1</td>\n",
       "      <td>24</td>\n",
       "      <td>1_ja_danke_mal_axel</td>\n",
       "    </tr>\n",
       "    <tr>\n",
       "      <th>3</th>\n",
       "      <td>2</td>\n",
       "      <td>23</td>\n",
       "      <td>2_dankbar_dankbarkeit_wofür_freude</td>\n",
       "    </tr>\n",
       "    <tr>\n",
       "      <th>4</th>\n",
       "      <td>3</td>\n",
       "      <td>21</td>\n",
       "      <td>3_the_and_to_you</td>\n",
       "    </tr>\n",
       "    <tr>\n",
       "      <th>5</th>\n",
       "      <td>4</td>\n",
       "      <td>20</td>\n",
       "      <td>4_deutschland_mehr_spd_000</td>\n",
       "    </tr>\n",
       "    <tr>\n",
       "      <th>6</th>\n",
       "      <td>5</td>\n",
       "      <td>19</td>\n",
       "      <td>5_report_episode_x22_x22 report</td>\n",
       "    </tr>\n",
       "    <tr>\n",
       "      <th>7</th>\n",
       "      <td>6</td>\n",
       "      <td>19</td>\n",
       "      <td>6_teilen_beitrag_teilen teilen_jackson</td>\n",
       "    </tr>\n",
       "    <tr>\n",
       "      <th>8</th>\n",
       "      <td>7</td>\n",
       "      <td>18</td>\n",
       "      <td>7_corona_regierung_wien_impfung</td>\n",
       "    </tr>\n",
       "    <tr>\n",
       "      <th>9</th>\n",
       "      <td>8</td>\n",
       "      <td>17</td>\n",
       "      <td>8_the_to_and_de</td>\n",
       "    </tr>\n",
       "  </tbody>\n",
       "</table>\n",
       "</div>"
      ],
      "text/plain": [
       "   Topic  Count                                    Name\n",
       "0     -1    174                      -1_at_ja_mal_schon\n",
       "1      0     51              0_red rainbow_rainbow_red_\n",
       "2      1     24                     1_ja_danke_mal_axel\n",
       "3      2     23      2_dankbar_dankbarkeit_wofür_freude\n",
       "4      3     21                        3_the_and_to_you\n",
       "5      4     20              4_deutschland_mehr_spd_000\n",
       "6      5     19         5_report_episode_x22_x22 report\n",
       "7      6     19  6_teilen_beitrag_teilen teilen_jackson\n",
       "8      7     18         7_corona_regierung_wien_impfung\n",
       "9      8     17                         8_the_to_and_de"
      ]
     },
     "execution_count": 231,
     "metadata": {},
     "output_type": "execute_result"
    }
   ],
   "source": [
    "topic_model.get_topic_info().head(10)"
   ]
  },
  {
   "cell_type": "code",
   "execution_count": 40,
   "id": "98f4d72d-9c5e-4ce4-99f1-7506e24b34c5",
   "metadata": {},
   "outputs": [
    {
     "data": {
      "text/html": [
       "<div>\n",
       "<style scoped>\n",
       "    .dataframe tbody tr th:only-of-type {\n",
       "        vertical-align: middle;\n",
       "    }\n",
       "\n",
       "    .dataframe tbody tr th {\n",
       "        vertical-align: top;\n",
       "    }\n",
       "\n",
       "    .dataframe thead th {\n",
       "        text-align: right;\n",
       "    }\n",
       "</style>\n",
       "<table border=\"1\" class=\"dataframe\">\n",
       "  <thead>\n",
       "    <tr style=\"text-align: right;\">\n",
       "      <th></th>\n",
       "      <th>group_name</th>\n",
       "      <th>denominator</th>\n",
       "      <th>year</th>\n",
       "      <th>messages</th>\n",
       "      <th>date</th>\n",
       "      <th>messages_processed</th>\n",
       "    </tr>\n",
       "  </thead>\n",
       "  <tbody>\n",
       "    <tr>\n",
       "      <th>0</th>\n",
       "      <td>🍃🌺 GᕮᕼᕮIᗰᑎIS 💫 ᗪᕮᖇ GᕮSᑌᑎᗪᕼᕮIT 🌺🍃</td>\n",
       "      <td>4.0</td>\n",
       "      <td>2020.0</td>\n",
       "      <td>‼️‼️❤️‼️‼️❤️‼️‼️  BITTE AN OLIVER JANICH WEITE...</td>\n",
       "      <td>2020-04-01</td>\n",
       "      <td>‼️‼️❤️‼️‼️❤️‼️‼️  bitte an oliver janich weite...</td>\n",
       "    </tr>\n",
       "    <tr>\n",
       "      <th>1</th>\n",
       "      <td>USWTV - Videoarchiv</td>\n",
       "      <td>5.0</td>\n",
       "      <td>2021.0</td>\n",
       "      <td>2036 - Das Ende der reptiloiden Schreckensherr...</td>\n",
       "      <td>2021-05-01</td>\n",
       "      <td>2036 - das ende der reptiloiden schreckensherr...</td>\n",
       "    </tr>\n",
       "    <tr>\n",
       "      <th>2</th>\n",
       "      <td>Stop-BRD Chat</td>\n",
       "      <td>9.0</td>\n",
       "      <td>2020.0</td>\n",
       "      <td>Danke ich schaue es mir noch mal in Ruhe an. V...</td>\n",
       "      <td>2020-09-01</td>\n",
       "      <td>danke ich schaue es mir noch mal in ruhe an vo...</td>\n",
       "    </tr>\n",
       "    <tr>\n",
       "      <th>3</th>\n",
       "      <td>Stop-BRD Chat</td>\n",
       "      <td>8.0</td>\n",
       "      <td>2020.0</td>\n",
       "      <td>Was haltet ihr davon ?        🙌☺️👍        Wi...</td>\n",
       "      <td>2020-08-01</td>\n",
       "      <td>was haltet ihr davon         🙌☺️👍        wie...</td>\n",
       "    </tr>\n",
       "    <tr>\n",
       "      <th>4</th>\n",
       "      <td>Stop-BRD Chat</td>\n",
       "      <td>7.0</td>\n",
       "      <td>2020.0</td>\n",
       "      <td>Hallo alle👋🏼        Hallo        Hey, prima k...</td>\n",
       "      <td>2020-07-01</td>\n",
       "      <td>hallo alle👋🏼        hallo        hey prima kl...</td>\n",
       "    </tr>\n",
       "    <tr>\n",
       "      <th>...</th>\n",
       "      <td>...</td>\n",
       "      <td>...</td>\n",
       "      <td>...</td>\n",
       "      <td>...</td>\n",
       "      <td>...</td>\n",
       "      <td>...</td>\n",
       "    </tr>\n",
       "    <tr>\n",
       "      <th>171</th>\n",
       "      <td>GEMEINSAMER ANTI CORONALÜGEN - SIEG CHAT! ZUM ...</td>\n",
       "      <td>5.0</td>\n",
       "      <td>2021.0</td>\n",
       "      <td>🎼 👊✊        Hallo        🔴 Aufkleber zum ausdr...</td>\n",
       "      <td>2021-05-01</td>\n",
       "      <td>🎼 👊✊        hallo        🔴 aufkleber zum ausdr...</td>\n",
       "    </tr>\n",
       "    <tr>\n",
       "      <th>172</th>\n",
       "      <td>🧩 SPANDAU steht AUF!</td>\n",
       "      <td>4.0</td>\n",
       "      <td>2021.0</td>\n",
       "      <td>hab hier auf arbeit gerade meinen spaß mit den...</td>\n",
       "      <td>2021-04-01</td>\n",
       "      <td>hab hier auf arbeit gerade meinen spaß mit den...</td>\n",
       "    </tr>\n",
       "    <tr>\n",
       "      <th>173</th>\n",
       "      <td>🧩 SPANDAU steht AUF!</td>\n",
       "      <td>5.0</td>\n",
       "      <td>2021.0</td>\n",
       "      <td>Ich habe tatsächlich schon Angebote zu gefälsc...</td>\n",
       "      <td>2021-05-01</td>\n",
       "      <td>ich habe tatsächlich schon angebote zu gefälsc...</td>\n",
       "    </tr>\n",
       "    <tr>\n",
       "      <th>174</th>\n",
       "      <td>🧩 SPANDAU steht AUF!</td>\n",
       "      <td>6.0</td>\n",
       "      <td>2021.0</td>\n",
       "      <td>❗️❗️❗️ HILFE BENÖTIGT ❗️❗️Hat einer von euch L...</td>\n",
       "      <td>2021-06-01</td>\n",
       "      <td>❗️❗️❗️ hilfe benötigt ❗️❗️hat einer von euch l...</td>\n",
       "    </tr>\n",
       "    <tr>\n",
       "      <th>175</th>\n",
       "      <td>🧩 SPANDAU steht AUF!</td>\n",
       "      <td>7.0</td>\n",
       "      <td>2021.0</td>\n",
       "      <td>Herzlich willkommen  - ,  wenn du unsere Grupp...</td>\n",
       "      <td>2021-07-01</td>\n",
       "      <td>herzlich willkommen  -   wenn du unsere gruppe...</td>\n",
       "    </tr>\n",
       "  </tbody>\n",
       "</table>\n",
       "<p>176 rows × 6 columns</p>\n",
       "</div>"
      ],
      "text/plain": [
       "                                            group_name  denominator    year   \n",
       "0                     🍃🌺 GᕮᕼᕮIᗰᑎIS 💫 ᗪᕮᖇ GᕮSᑌᑎᗪᕼᕮIT 🌺🍃          4.0  2020.0  \\\n",
       "1                                  USWTV - Videoarchiv          5.0  2021.0   \n",
       "2                                        Stop-BRD Chat          9.0  2020.0   \n",
       "3                                        Stop-BRD Chat          8.0  2020.0   \n",
       "4                                        Stop-BRD Chat          7.0  2020.0   \n",
       "..                                                 ...          ...     ...   \n",
       "171  GEMEINSAMER ANTI CORONALÜGEN - SIEG CHAT! ZUM ...          5.0  2021.0   \n",
       "172                               🧩 SPANDAU steht AUF!          4.0  2021.0   \n",
       "173                               🧩 SPANDAU steht AUF!          5.0  2021.0   \n",
       "174                               🧩 SPANDAU steht AUF!          6.0  2021.0   \n",
       "175                               🧩 SPANDAU steht AUF!          7.0  2021.0   \n",
       "\n",
       "                                              messages        date   \n",
       "0    ‼️‼️❤️‼️‼️❤️‼️‼️  BITTE AN OLIVER JANICH WEITE...  2020-04-01  \\\n",
       "1    2036 - Das Ende der reptiloiden Schreckensherr...  2021-05-01   \n",
       "2    Danke ich schaue es mir noch mal in Ruhe an. V...  2020-09-01   \n",
       "3      Was haltet ihr davon ?        🙌☺️👍        Wi...  2020-08-01   \n",
       "4     Hallo alle👋🏼        Hallo        Hey, prima k...  2020-07-01   \n",
       "..                                                 ...         ...   \n",
       "171  🎼 👊✊        Hallo        🔴 Aufkleber zum ausdr...  2021-05-01   \n",
       "172  hab hier auf arbeit gerade meinen spaß mit den...  2021-04-01   \n",
       "173  Ich habe tatsächlich schon Angebote zu gefälsc...  2021-05-01   \n",
       "174  ❗️❗️❗️ HILFE BENÖTIGT ❗️❗️Hat einer von euch L...  2021-06-01   \n",
       "175  Herzlich willkommen  - ,  wenn du unsere Grupp...  2021-07-01   \n",
       "\n",
       "                                    messages_processed  \n",
       "0    ‼️‼️❤️‼️‼️❤️‼️‼️  bitte an oliver janich weite...  \n",
       "1    2036 - das ende der reptiloiden schreckensherr...  \n",
       "2    danke ich schaue es mir noch mal in ruhe an vo...  \n",
       "3      was haltet ihr davon         🙌☺️👍        wie...  \n",
       "4     hallo alle👋🏼        hallo        hey prima kl...  \n",
       "..                                                 ...  \n",
       "171  🎼 👊✊        hallo        🔴 aufkleber zum ausdr...  \n",
       "172  hab hier auf arbeit gerade meinen spaß mit den...  \n",
       "173  ich habe tatsächlich schon angebote zu gefälsc...  \n",
       "174  ❗️❗️❗️ hilfe benötigt ❗️❗️hat einer von euch l...  \n",
       "175  herzlich willkommen  -   wenn du unsere gruppe...  \n",
       "\n",
       "[176 rows x 6 columns]"
      ]
     },
     "execution_count": 40,
     "metadata": {},
     "output_type": "execute_result"
    }
   ],
   "source": [
    "text_df"
   ]
  },
  {
   "cell_type": "code",
   "execution_count": 47,
   "id": "12cbc810-3753-4706-aaf2-b33eb087d536",
   "metadata": {},
   "outputs": [],
   "source": [
    "pd.set_option('display.max_colwidth', None)"
   ]
  },
  {
   "cell_type": "code",
   "execution_count": 48,
   "id": "770e5733-004b-4864-99f7-2c27e48c967c",
   "metadata": {},
   "outputs": [
    {
     "data": {
      "text/plain": [
       "0     <strong>‼️‼️❤️‼️‼️❤️‼️‼️  BITTE AN OLIVER JANICH WEITERLEITEN!    </strong>Lieber Oliver, danke für dieses gutes Video von dir💓 endlich sagt es mal jemand öffentlich das dieser Kanal „unzensiert“ sehr viele  Lügen verbreitet sowie sehr viele negative Dinge über bestimmte Menschen .. oder Menschengruppen !!!  Ich habe vor diesem Kanal schon lange gewarnt!!  Jetzt endlich sagst auch Du es öffentlich ❤️🙏❤️ .. kommt am bei Minute 30:00 des Videos   <a href=\"https://youtu.be/4-6CwDPwmTE\">https://youtu.be/4-6CwDPwmTE</a>  <a href=\"https://t.me/Geheimnis_Gesundheit\">@Geheimnis_Gesundheit</a>  <a href=\"https://t.me/s/Geheimnis_Gesundheit\">https://t.me/s/Geheimnis_Gesundheit</a> - Link ohne telegram-App aufrufbar  Geheimnis der Gesundheit  eure 😇 Angel of Truth       \n",
       "1                                                                                                                                   ‼️‼️ACHTUNG‼️‼️ <strong> Satanisten Seite mit Fotos von Jay- Z </strong>  Satanistischer Illuminati Order  .. sie sagen sie würden helfen ..  eine bessere Welt aufzubauen ..  ihre Fotos sagen jedoch etwas Anderes !!!   Dort gibt es auch Fotos von diesem Rapper Jay - Z auf dieser Seite ...    <a href=\"https://illuminatireligion.com/our-mission/\">https://illuminatireligion.com/our-mission/</a>  <a href=\"https://t.me/Geheimnis_Gesundheit\">@Geheimnis_Gesundheit</a>  <a href=\"https://t.me/s/Geheimnis_Gesundheit\">https://t.me/s/Geheimnis_Gesundheit</a> - Link ohne telegram-App aufrufbar  Geheimnis der Gesundheit  eure 😇 Angel of Truth       \n",
       "2                                                                                                                                                                                                                                                                                                                                          <a href=\"https://qlobal-change.blogspot.com/2020/04/putin-trump-gegen-die-neue-weltordnung.html?m=1\">https://qlobal-change.blogspot.com/2020/04/putin-trump-gegen-die-neue-weltordnung.html?m=1</a>  <a href=\"https://t.me/Geheimnis_Gesundheit\">@Geheimnis_Gesundheit</a>  <a href=\"https://t.me/s/Geheimnis_Gesundheit\">https://t.me/s/Geheimnis_Gesundheit</a> - Link ohne telegram-App aufrufbar  Geheimnis der Gesundheit  eure 😇 Angel of Truth       \n",
       "3                                                                                                                                                                                                                                                                                                                                                                                                                                                                      <a href=\"https://youtu.be/dkklDuUUGzw\">https://youtu.be/dkklDuUUGzw</a>  <a href=\"https://t.me/Geheimnis_Gesundheit\">@Geheimnis_Gesundheit</a>  <a href=\"https://t.me/s/Geheimnis_Gesundheit\">https://t.me/s/Geheimnis_Gesundheit</a> - Link ohne telegram-App aufrufbar  Geheimnis der Gesundheit  eure 😇 Angel of Truth       \n",
       "4                                                                                                                                                                                                                                                                                                                                                                                                                                                                                                                                               <a href=\"https://t.me/Geheimnis_Gesundheit\">@Geheimnis_Gesundheit</a>  <a href=\"https://t.me/s/Geheimnis_Gesundheit\">https://t.me/s/Geheimnis_Gesundheit</a> - Link ohne telegram-App aufrufbar  Geheimnis der Gesundheit  eure 😇 Angel of Truth       \n",
       "5                                                                                                                                                                                                                                                                                                                                                                                                                                                                                                                                               <a href=\"https://t.me/Geheimnis_Gesundheit\">@Geheimnis_Gesundheit</a>  <a href=\"https://t.me/s/Geheimnis_Gesundheit\">https://t.me/s/Geheimnis_Gesundheit</a> - Link ohne telegram-App aufrufbar  Geheimnis der Gesundheit  eure 😇 Angel of Truth       \n",
       "6                                                                                                                                                                                                                                                                                                                                                                                                                                                                                                                                               <a href=\"https://t.me/Geheimnis_Gesundheit\">@Geheimnis_Gesundheit</a>  <a href=\"https://t.me/s/Geheimnis_Gesundheit\">https://t.me/s/Geheimnis_Gesundheit</a> - Link ohne telegram-App aufrufbar  Geheimnis der Gesundheit  eure 😇 Angel of Truth       \n",
       "7                                                                                                                                                                                                                                                                                                                                                                                                                                                                                                      Jay - Z Members seit über 10 Jahren !!!  <a href=\"https://t.me/Geheimnis_Gesundheit\">@Geheimnis_Gesundheit</a>  <a href=\"https://t.me/s/Geheimnis_Gesundheit\">https://t.me/s/Geheimnis_Gesundheit</a> - Link ohne telegram-App aufrufbar  Geheimnis der Gesundheit  eure 😇 Angel of Truth       \n",
       "8                                                                                                                                                                                                                  <a href=\"https://www.die-lebenskraft.de/hollywood-adrenochrome-ritueller-kindesmissbrauch-und-die-perverse-gier-der-selbsternannten-elite-nach-unsterblichkeit/\">https://www.die-lebenskraft.de/hollywood-adrenochrome-ritueller-kindesmissbrauch-und-die-perverse-gier-der-selbsternannten-elite-nach-unsterblichkeit/</a>  <a href=\"https://t.me/Geheimnis_Gesundheit\">@Geheimnis_Gesundheit</a>  <a href=\"https://t.me/s/Geheimnis_Gesundheit\">https://t.me/s/Geheimnis_Gesundheit</a> - Link ohne telegram-App aufrufbar  Geheimnis der Gesundheit  eure 😇 Angel of Truth       \n",
       "9                                                                                                                                                                                                                                                                                                                                                                                                                                                     Achtet auf Xavier Naidoo‘s Text  <a href=\"https://t.me/Xavier_Naidoo\">@Xavier_Naidoo</a>  <a href=\"https://t.me/Geheimnis_Gesundheit\">@Geheimnis_Gesundheit</a>  <a href=\"https://t.me/s/Geheimnis_Gesundheit\">https://t.me/s/Geheimnis_Gesundheit</a> - Link ohne telegram-App aufrufbar  Geheimnis der Gesundheit  eure 😇 Angel of Truth       \n",
       "10                                                                                                                                                                                                                                                                                                                                                                                                                                                                                                                                                                                                                                                                                                                                                                                                  NaN\n",
       "11                                                                                                                                                                                                                                                                                                                                                                                                                                                                                                                                                                                                                                                                                                                                                                                                  NaN\n",
       "12                                                                                                                                                                                                                                                                                                                                                                                                                                                                                                                                                                                                                                                                                                                                                                                                  NaN\n",
       "13                                                                                                                                                                                                                                                                                                                                                                                                                                                                                                                                                                                                                                                                                                                                                                                                  NaN\n",
       "14                                                                                                                                                                                                                                                                                                                                                                                                                                                                                                                                                                                                                                                                                                                                                                                                  NaN\n",
       "15                                                                                                                                                                                                                                                                                                                                                                                                                                                                                                                                                                                                                                                                                                                                                                                                  NaN\n",
       "16                                                                                                                                                                                                                                                                                                                                                                                                                                                                                                                                                                                                                                                                                                                                                                                                  NaN\n",
       "17                                                                                                                                                                                                                                                                                                                                                                                                                                                                                                                                                                                                                                                                                                                                                                                                  NaN\n",
       "18                                                                                                                                                                                                                                                                                                                                                                                                                                                                                                                                                                                                                                                                                                                                                                                                  NaN\n",
       "19                                                                                                                                                                                                                                                                                                                                                                                                                                                                                                                                                                                                                                                                                                                                                                                                  NaN\n",
       "20                                                                                                                                                                                                                                                                                                                                                                                                                                                                                                                                                                                                                                                                                                                                                                                                  NaN\n",
       "Name: message, dtype: object"
      ]
     },
     "execution_count": 48,
     "metadata": {},
     "output_type": "execute_result"
    }
   ],
   "source": [
    "data[data['group_name'] == '🍃🌺 GᕮᕼᕮIᗰᑎIS 💫 ᗪᕮᖇ GᕮSᑌᑎᗪᕼᕮIT 🌺🍃' ]['message']"
   ]
  },
  {
   "cell_type": "code",
   "execution_count": 33,
   "id": "41938e84-03f4-463b-9a98-bb6f648f8104",
   "metadata": {},
   "outputs": [
    {
     "name": "stderr",
     "output_type": "stream",
     "text": [
      "[nltk_data] Downloading package stopwords to\n",
      "[nltk_data]     /home/mangermaier/nltk_data...\n",
      "[nltk_data]   Package stopwords is already up-to-date!\n"
     ]
    }
   ],
   "source": [
    "import gensim\n",
    "import gensim.corpora as corpora\n",
    "from gensim.utils import simple_preprocess\n",
    "\n",
    "import spacy\n",
    "import pickle\n",
    "\n",
    "import pyLDAvis\n",
    "import pyLDAvis.gensim_models\n",
    "\n",
    "import nltk\n",
    "nltk.download('stopwords')\n",
    "from nltk.corpus import stopwords\n",
    "\n",
    "import warnings\n",
    "warnings.filterwarnings(\"ignore\", category=DeprecationWarning)\n"
   ]
  },
  {
   "cell_type": "code",
   "execution_count": 34,
   "id": "eb1339fb-47eb-4d19-b1e0-eedbee17a2e1",
   "metadata": {},
   "outputs": [
    {
     "data": {
      "text/plain": [
       "0    ‼️‼️❤️‼️‼️❤️‼️‼️  bitte an oliver janich weite...\n",
       "1    2036 - das ende der reptiloiden schreckensherr...\n",
       "2    danke ich schaue es mir noch mal in ruhe an vo...\n",
       "3      was haltet ihr davon         🙌☺️👍        wie...\n",
       "4     hallo alle👋🏼        hallo        hey prima kl...\n",
       "Name: messages_processed, dtype: object"
      ]
     },
     "execution_count": 34,
     "metadata": {},
     "output_type": "execute_result"
    }
   ],
   "source": [
    "def preprocessing(df)\n",
    "    # Remove punctuation\n",
    "    text_df['messages_processed'] = \\\n",
    "    text_df['messages'].map(lambda x: re.sub('[,\\.!?]', '', x))\n",
    "    # Convert the titles to lowercase\n",
    "    text_df['messages_processed'] = \\\n",
    "    text_df['messages_processed'].map(lambda x: x.lower())\n",
    "    # Print out the first rows of papers\n",
    "    text_df['messages_processed'].head()"
   ]
  },
  {
   "cell_type": "code",
   "execution_count": 42,
   "id": "14c21f37-f15c-41e1-b6d1-dcadb66bc846",
   "metadata": {},
   "outputs": [],
   "source": [
    "stop_words = stopwords.words('german')"
   ]
  },
  {
   "cell_type": "code",
   "execution_count": null,
   "id": "06e1bce7-986b-4a17-933f-edc7da9a0a9f",
   "metadata": {},
   "outputs": [],
   "source": [
    "text_df['messages_processed'][3]"
   ]
  },
  {
   "cell_type": "code",
   "execution_count": 49,
   "id": "249a15ff-ea4c-4bce-ba4d-012c494fbe64",
   "metadata": {},
   "outputs": [],
   "source": [
    "def sent_to_words(sentences):\n",
    "    for sentence in sentences:\n",
    "        # deacc=True removes punctuations\n",
    "        yield(gensim.utils.simple_preprocess(str(sentence), deacc=True))\n",
    "def remove_stopwords(texts):\n",
    "    return [[word for word in simple_preprocess(str(doc)) \n",
    "             if word not in stop_words] for doc in texts]\n",
    "lda_data = text_df.messages_processed.values.tolist()\n",
    "data_words = list(sent_to_words(lda_data))\n",
    "\n",
    "data_words = remove_stopwords(data_words)"
   ]
  },
  {
   "cell_type": "code",
   "execution_count": null,
   "id": "383579a1-4a3f-4577-a938-955a0582af55",
   "metadata": {},
   "outputs": [],
   "source": [
    "data_words"
   ]
  },
  {
   "cell_type": "code",
   "execution_count": null,
   "id": "f8fc49e4-294d-463f-9fd7-fd3869f9eee4",
   "metadata": {},
   "outputs": [],
   "source": []
  },
  {
   "cell_type": "code",
   "execution_count": 50,
   "id": "9cf88712-3a62-420b-8ba6-01905183673d",
   "metadata": {},
   "outputs": [],
   "source": [
    "# Create Dictionary\n",
    "id2word = corpora.Dictionary(data_words)\n",
    "# Create Corpus\n",
    "texts = data_words\n",
    "# Term Document Frequency\n",
    "corpus = [id2word.doc2bow(text) for text in texts]"
   ]
  },
  {
   "cell_type": "code",
   "execution_count": 51,
   "id": "57a6fbd2-8653-4a41-9b64-d5bb3bcd641d",
   "metadata": {},
   "outputs": [
    {
     "name": "stdout",
     "output_type": "stream",
     "text": [
      "[(0, 1), (1, 1), (2, 10), (3, 10), (4, 10), (5, 1), (6, 1), (7, 1), (8, 1), (9, 1), (10, 1), (11, 2), (12, 3), (13, 1), (14, 10), (15, 10), (16, 1), (17, 1), (18, 1), (19, 1), (20, 1), (21, 1), (22, 1), (23, 3), (24, 1), (25, 1), (26, 2), (27, 1), (28, 1), (29, 1)]\n"
     ]
    }
   ],
   "source": [
    "print(corpus[:30])"
   ]
  },
  {
   "cell_type": "code",
   "execution_count": 52,
   "id": "1651de1d-be54-4ea7-bcc2-a3634fc2816a",
   "metadata": {},
   "outputs": [
    {
     "name": "stdout",
     "output_type": "stream",
     "text": [
      "[(0,\n",
      "  '0.010*\"fur\" + 0.007*\"ja\" + 0.006*\"wurde\" + 0.005*\"schon\" + 0.005*\"uber\" + '\n",
      "  '0.004*\"danke\" + 0.004*\"mal\" + 0.004*\"the\" + 0.004*\"axel\" + 0.004*\"gibt\"'),\n",
      " (1,\n",
      "  '0.012*\"fur\" + 0.006*\"ja\" + 0.004*\"wurde\" + 0.004*\"danke\" + 0.004*\"mehr\" + '\n",
      "  '0.004*\"schon\" + 0.004*\"the\" + 0.003*\"mal\" + 0.003*\"gibt\" + 0.003*\"immer\"'),\n",
      " (2,\n",
      "  '0.015*\"fur\" + 0.007*\"ja\" + 0.006*\"danke\" + 0.006*\"schon\" + 0.005*\"axel\" + '\n",
      "  '0.004*\"mehr\" + 0.004*\"mal\" + 0.004*\"wurde\" + 0.004*\"gibt\" + 0.003*\"immer\"'),\n",
      " (3,\n",
      "  '0.013*\"fur\" + 0.006*\"ja\" + 0.006*\"mal\" + 0.006*\"schon\" + 0.005*\"wurde\" + '\n",
      "  '0.004*\"mehr\" + 0.004*\"axel\" + 0.004*\"danke\" + 0.004*\"menschen\" + '\n",
      "  '0.004*\"immer\"'),\n",
      " (4,\n",
      "  '0.011*\"fur\" + 0.008*\"the\" + 0.006*\"ja\" + 0.004*\"of\" + 0.004*\"mal\" + '\n",
      "  '0.004*\"and\" + 0.004*\"wurde\" + 0.004*\"to\" + 0.004*\"schon\" + 0.004*\"danke\"'),\n",
      " (5,\n",
      "  '0.011*\"fur\" + 0.006*\"ja\" + 0.005*\"danke\" + 0.005*\"schon\" + 0.004*\"the\" + '\n",
      "  '0.004*\"mal\" + 0.004*\"mehr\" + 0.004*\"gibt\" + 0.003*\"menschen\" + 0.003*\"and\"'),\n",
      " (6,\n",
      "  '0.011*\"fur\" + 0.010*\"ja\" + 0.007*\"schon\" + 0.006*\"mal\" + 0.004*\"mehr\" + '\n",
      "  '0.004*\"immer\" + 0.004*\"danke\" + 0.004*\"wurde\" + 0.003*\"geht\" + '\n",
      "  '0.003*\"menschen\"'),\n",
      " (7,\n",
      "  '0.012*\"fur\" + 0.007*\"ja\" + 0.006*\"mal\" + 0.005*\"schon\" + 0.004*\"mehr\" + '\n",
      "  '0.004*\"axel\" + 0.003*\"danke\" + 0.003*\"gibt\" + 0.003*\"immer\" + '\n",
      "  '0.003*\"wurde\"'),\n",
      " (8,\n",
      "  '0.011*\"fur\" + 0.007*\"ja\" + 0.006*\"schon\" + 0.005*\"mal\" + 0.005*\"wurde\" + '\n",
      "  '0.005*\"danke\" + 0.004*\"immer\" + 0.004*\"mehr\" + 0.004*\"gibt\" + '\n",
      "  '0.004*\"bitte\"'),\n",
      " (9,\n",
      "  '0.012*\"fur\" + 0.007*\"ja\" + 0.006*\"mal\" + 0.005*\"schon\" + 0.005*\"axel\" + '\n",
      "  '0.004*\"mehr\" + 0.004*\"wurde\" + 0.004*\"bitte\" + 0.004*\"danke\" + '\n",
      "  '0.003*\"uber\"')]\n"
     ]
    }
   ],
   "source": [
    "from pprint import pprint\n",
    "\n",
    "# number of topics\n",
    "num_topics = 10\n",
    "# Build LDA model\n",
    "lda_model = gensim.models.LdaMulticore(corpus=corpus,\n",
    "                                       id2word=id2word,\n",
    "                                       num_topics=num_topics)\n",
    "# Print the Keyword in the 10 topics\n",
    "pprint(lda_model.print_topics())\n",
    "doc_lda = lda_model[corpus]"
   ]
  },
  {
   "cell_type": "code",
   "execution_count": null,
   "id": "466e343c-bc4b-4e61-b555-104f8a1b4a89",
   "metadata": {},
   "outputs": [],
   "source": [
    "further_stopwords = ([\"und\", \"die\", \"ich\", \"der\", \"fur\", \"es\", \"ist\", , , , , , , , , , , , , , ])"
   ]
  }
 ],
 "metadata": {
  "kernelspec": {
   "display_name": "Python 3 (ipykernel)",
   "language": "python",
   "name": "python3"
  },
  "language_info": {
   "codemirror_mode": {
    "name": "ipython",
    "version": 3
   },
   "file_extension": ".py",
   "mimetype": "text/x-python",
   "name": "python",
   "nbconvert_exporter": "python",
   "pygments_lexer": "ipython3",
   "version": "3.8.11"
  }
 },
 "nbformat": 4,
 "nbformat_minor": 5
}
