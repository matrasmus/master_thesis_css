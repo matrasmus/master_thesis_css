{
 "cells": [
  {
   "cell_type": "code",
   "execution_count": 10,
   "id": "46043425-08ec-411c-9fae-aacae9c9a049",
   "metadata": {},
   "outputs": [],
   "source": [
    "import pandas as pd\n",
    "import numpy as np\n",
    "from pathlib import Path\n",
    "import datetime\n",
    "\n",
    "import requests\n",
    "import re\n",
    "import os\n",
    "import sys\n",
    "\n",
    "import pickle\n",
    "import ffmpeg\n",
    "\n",
    "\n",
    "from multiprocess import Pool\n",
    "\n",
    "from tqdm import tqdm"
   ]
  },
  {
   "cell_type": "code",
   "execution_count": 2,
   "id": "6a2e9256-9bd3-4528-b3b4-f78948d96cb1",
   "metadata": {},
   "outputs": [],
   "source": [
    "# displaying options\n",
    "pd.set_option('display.float_format', '{:.20f}'.format)\n",
    "pd.set_option('display.max_columns', None)\n",
    "pd.set_option('display.max_colwidth', None)\n",
    "# deprecation warning set off\n",
    "pd.options.mode.chained_assignment = None "
   ]
  },
  {
   "cell_type": "code",
   "execution_count": 3,
   "id": "359cbda4-02f3-4a4d-8004-766f02767612",
   "metadata": {},
   "outputs": [],
   "source": [
    "pathlist = ['/nas-slot3/schwurbel1', '/nas-slot4/schwurbel2']"
   ]
  },
  {
   "cell_type": "code",
   "execution_count": null,
   "id": "f53a4ecb-ab77-4c79-9b4d-341ebb17c80f",
   "metadata": {},
   "outputs": [],
   "source": []
  },
  {
   "cell_type": "code",
   "execution_count": 4,
   "id": "c7c97814-1842-41cf-b148-269071eb958e",
   "metadata": {},
   "outputs": [],
   "source": [
    "t1 = pd.read_csv('/home/mangermaier/master_thesis_css/transcribed_messages_df.csv.gzip', compression = 'gzip')\n",
    "t2 = pd.read_csv('/home/mangermaier/master_thesis_css/transcribed_messages_df_1.csv.gzip', compression = 'gzip')\n",
    "t3 = pd.read_csv('/home/mangermaier/master_thesis_css/transcribed_messages_df_2.csv.gzip', compression = 'gzip')\n",
    "t4 = pd.read_csv('/home/mangermaier/master_thesis_css/transcribed_messages_df_3.csv.gzip', compression = 'gzip')\n",
    "t5 = pd.read_csv('/home/mangermaier/master_thesis_css/transcribed_messages_df_4.csv.gzip', compression = 'gzip')\n",
    "t6 = pd.read_csv('/home/mangermaier/master_thesis_css/transcribed_messages_df_5.csv.gzip', compression = 'gzip')\n",
    "t7 = pd.read_csv('/home/mangermaier/master_thesis_css/transcribed_messages_df_6.csv.gzip', compression = 'gzip')\n",
    "t8 = pd.read_csv('/home/mangermaier/master_thesis_css/transcribed_messages_df_7.csv.gzip', compression = 'gzip')\n",
    "\n",
    "transcribed = pd.concat([t1, t2, t3, t4, t5, t6, t7, t8])"
   ]
  },
  {
   "cell_type": "code",
   "execution_count": 5,
   "id": "7769a413-3cb3-4658-89ab-d72901a16722",
   "metadata": {},
   "outputs": [
    {
     "data": {
      "text/plain": [
       "(4560, 36)"
      ]
     },
     "execution_count": 5,
     "metadata": {},
     "output_type": "execute_result"
    }
   ],
   "source": [
    "transcribed.shape"
   ]
  },
  {
   "cell_type": "code",
   "execution_count": 6,
   "id": "29182f57-8689-44c8-9af8-333c5a58a5a2",
   "metadata": {},
   "outputs": [
    {
     "name": "stderr",
     "output_type": "stream",
     "text": [
      "/tmp/ipykernel_470676/2262508209.py:1: DtypeWarning: Columns (28) have mixed types. Specify dtype option on import or set low_memory=False.\n",
      "  topic_groups = pd.read_csv('/home/mangermaier/master_thesis_css/selected_groups.csv.gzip', compression = 'gzip')\n"
     ]
    }
   ],
   "source": [
    "topic_groups = pd.read_csv('/home/mangermaier/master_thesis_css/selected_groups.csv.gzip', compression = 'gzip')"
   ]
  },
  {
   "cell_type": "code",
   "execution_count": 11,
   "id": "526436a3-d855-4779-9baa-bbe36c73665b",
   "metadata": {},
   "outputs": [
    {
     "name": "stderr",
     "output_type": "stream",
     "text": [
      "/tmp/ipykernel_1116924/3415011880.py:1: DtypeWarning: Columns (2,6,10,11,12,13,14,15,27) have mixed types. Specify dtype option on import or set low_memory=False.\n",
      "  test = pd.read_csv(\"/data/schwurbelarchiv/extracted_information/dataframes/telegram_chats_file_level_w_missing.csv.gzip\", compression = 'gzip')\n"
     ]
    }
   ],
   "source": [
    "test = pd.read_csv(\"/data/schwurbelarchiv/extracted_information/dataframes/telegram_chats_file_level_w_missing.csv.gzip\", compression = 'gzip')"
   ]
  },
  {
   "cell_type": "code",
   "execution_count": 2,
   "id": "8f2d3569-24d6-4339-bcc0-59cc6f1529f6",
   "metadata": {},
   "outputs": [],
   "source": [
    "import whisper\n"
   ]
  },
  {
   "cell_type": "code",
   "execution_count": 3,
   "id": "8f1c16a2-4bcb-4aa7-b9dd-0599781b0b13",
   "metadata": {},
   "outputs": [],
   "source": [
    "\n",
    "#transcription_model_large = whisper.load_model(\"large\")\n",
    "transcription_model_small = whisper.load_model(\"small\")"
   ]
  },
  {
   "cell_type": "code",
   "execution_count": 4,
   "id": "00b53da4-8a03-4327-96c0-9bbf5c30c298",
   "metadata": {},
   "outputs": [],
   "source": [
    "#load groupname dictionary\n",
    "def groupname_dictionary():\n",
    "    with open('group_name_dictionary.pkl', 'rb') as f:\n",
    "        res_dict = pickle.load(f)\n",
    "    return res_dict"
   ]
  },
  {
   "cell_type": "code",
   "execution_count": 5,
   "id": "a10ab7f9-efb4-4339-a100-970296a63265",
   "metadata": {},
   "outputs": [],
   "source": [
    "def get_filetypes(df):\n",
    "    \n",
    "    file_types = df['media_file_type'].combine_first(df['fwd_media_file_type']).unique()\n",
    "    file_types = file_types[~pd.isnull(file_types)]\n",
    "    #delete photo, as we do not use it to derive any information yet\n",
    "    file_types = np.delete(file_types, np.where(file_types == 'photo'))\n",
    "    \n",
    "    return file_types"
   ]
  },
  {
   "cell_type": "code",
   "execution_count": 6,
   "id": "4ff89abc-8a37-4eba-9d67-c9d5809eaed0",
   "metadata": {},
   "outputs": [],
   "source": [
    "def file_server_dictionary(pathlist):\n",
    "    server_dict = {}\n",
    "    for path in pathlist:\n",
    "        for file in os.listdir(path):\n",
    "            server_dict.update({file: f\"{path}/{file}\"})\n",
    "            \n",
    "    return server_dict"
   ]
  },
  {
   "cell_type": "code",
   "execution_count": 7,
   "id": "d71fecd8-cef5-4e70-af94-ac48fd4704cd",
   "metadata": {},
   "outputs": [
    {
     "name": "stdout",
     "output_type": "stream",
     "text": [
      "deprecated\n"
     ]
    }
   ],
   "source": [
    "#deprecated, current version is split in order to parallelize\n",
    "\n",
    "def file_duration(pathlist, data):\n",
    "    \n",
    "    \n",
    "    ftypes = get_filetypes(data)\n",
    "    name_dict = groupname_dictionary()\n",
    "    server_dict = file_server_dictionary(pathlist)\n",
    "    \n",
    "    \n",
    "    for i in tqdm(data['group_name'].unique()):\n",
    "        #print('check 1')\n",
    "        for n in ftypes:\n",
    "            group_df = data[data[\"group_name\"] == i]\n",
    "            media_df = group_df[group_df[\"media_file_type\"] == n]\n",
    "            #fwd_media_df = group_df[group_df[\"fwd_media_file_type\"] == n]\n",
    "            files = list(media_df[\"media_file\"])# + list(fwd_media_df[\"fwd_media_file\"])\n",
    "            #print('check 2')\n",
    "            \n",
    "            for file in tqdm(files):\n",
    "                try:\n",
    "                    link = f\"{server_dict[name_dict[i]]}/{file}\"\n",
    "                    duration = float(ffmpeg.probe(link)[\"streams\"][0]['duration'])\n",
    "                    data.loc[data[\"media_file\"] == file, \"file_duration\"] = duration\n",
    "\n",
    "                except:\n",
    "                    continue\n",
    "\n",
    "    return data\n",
    "\n",
    "print('deprecated')"
   ]
  },
  {
   "cell_type": "code",
   "execution_count": 8,
   "id": "db573e50-a034-49bc-9972-640004bcf8ee",
   "metadata": {},
   "outputs": [],
   "source": [
    "def get_media_filepaths(pathlist, data):\n",
    "    \n",
    "    ftypes = get_filetypes(data)\n",
    "    name_dict = groupname_dictionary()\n",
    "    server_dict = file_server_dictionary(pathlist)\n",
    "    \n",
    "    link_tuple_list = []\n",
    "    \n",
    "    \n",
    "    for i in data['group_name'].unique():\n",
    "        #print('check 1')\n",
    "        for n in ftypes:\n",
    "            group_df = data[data[\"group_name\"] == i]\n",
    "            media_df = group_df[group_df[\"media_file_type\"] == n]\n",
    "            #fwd_media_df = group_df[group_df[\"fwd_media_file_type\"] == n]\n",
    "            files = list(media_df[\"media_file\"])# + list(fwd_media_df[\"fwd_media_file\"])\n",
    "            \n",
    "            for file in files:\n",
    "                link = f\"{server_dict[name_dict[i]]}/{file}\"\n",
    "                link_tuple_list.append((link, i, file))\n",
    "\n",
    "            \n",
    "    return link_tuple_list"
   ]
  },
  {
   "cell_type": "code",
   "execution_count": 9,
   "id": "c61ed797-c8c3-415b-8400-26cfdf807b19",
   "metadata": {},
   "outputs": [],
   "source": [
    "def get_file_duration(filepath_tuple):\n",
    "    \n",
    "    filepath = filepath_tuple[0]\n",
    "    \n",
    "    try:\n",
    "        duration = float(ffmpeg.probe(filepath)[\"streams\"][0]['duration'])\n",
    "    except:\n",
    "        duration = float(\"NaN\")\n",
    "    \n",
    "    return (duration, filepath_tuple[0], filepath_tuple[1], filepath_tuple[2])   "
   ]
  },
  {
   "cell_type": "code",
   "execution_count": 10,
   "id": "3feb6290-da07-4558-ac7c-fc420eee2494",
   "metadata": {},
   "outputs": [],
   "source": [
    "def pool_file_duration(n_cores, file_tuple_list):\n",
    "    \n",
    "    file_metadata = []\n",
    "    \n",
    "    file_tuple_list = pd.Series(file_tuple_list).unique().tolist()\n",
    "    \n",
    "    pool = Pool(n_cores)\n",
    "    \n",
    "    for result in tqdm(\n",
    "        pool.imap_unordered(func=get_file_duration, iterable=file_tuple_list),\n",
    "        total=len(file_tuple_list)\n",
    "        ):\n",
    "            file_metadata.append(result)\n",
    "\n",
    "\n",
    "    pool.close()\n",
    "    \n",
    "    return file_metadata"
   ]
  },
  {
   "cell_type": "code",
   "execution_count": null,
   "id": "a70fdc6e-fbdc-4158-93ad-aa60ac89dad4",
   "metadata": {},
   "outputs": [],
   "source": []
  },
  {
   "cell_type": "code",
   "execution_count": 15,
   "id": "92c7a27f-8d9d-4134-b380-fa37ec3d4b08",
   "metadata": {},
   "outputs": [
    {
     "name": "stderr",
     "output_type": "stream",
     "text": [
      "100%|█████████████████████████████████████████████████████████████████████████████| 68092/68092 [33:30<00:00, 33.87it/s]\n"
     ]
    }
   ],
   "source": [
    "file_duration_tuples = pool_file_duration(100, get_media_filepaths(pathlist, topic_groups))"
   ]
  },
  {
   "cell_type": "code",
   "execution_count": 16,
   "id": "4f6743c5-933d-4e76-92ec-0b292148221e",
   "metadata": {},
   "outputs": [],
   "source": [
    "duration_df = pd.DataFrame(data = file_duration_tuples, columns = ['duration', 'filepath', 'group_name', 'filename'])"
   ]
  },
  {
   "cell_type": "code",
   "execution_count": 20,
   "id": "2f148004-d34f-4a89-9fef-e6f63bcf78cb",
   "metadata": {},
   "outputs": [
    {
     "data": {
      "text/html": [
       "<div>\n",
       "<style scoped>\n",
       "    .dataframe tbody tr th:only-of-type {\n",
       "        vertical-align: middle;\n",
       "    }\n",
       "\n",
       "    .dataframe tbody tr th {\n",
       "        vertical-align: top;\n",
       "    }\n",
       "\n",
       "    .dataframe thead th {\n",
       "        text-align: right;\n",
       "    }\n",
       "</style>\n",
       "<table border=\"1\" class=\"dataframe\">\n",
       "  <thead>\n",
       "    <tr style=\"text-align: right;\">\n",
       "      <th></th>\n",
       "      <th>duration</th>\n",
       "      <th>filepath</th>\n",
       "      <th>group_name</th>\n",
       "      <th>filename</th>\n",
       "    </tr>\n",
       "  </thead>\n",
       "  <tbody>\n",
       "    <tr>\n",
       "      <th>0</th>\n",
       "      <td>120.62649999999999295142</td>\n",
       "      <td>/nas-slot4/schwurbel2/schwurbelarchiv-NPFJtWIX0R/voice_messages/audio_11825@10-11-2021_00-41-43.ogg</td>\n",
       "      <td>Helfende Q Hände 👐👏</td>\n",
       "      <td>voice_messages/audio_11825@10-11-2021_00-41-43.ogg</td>\n",
       "    </tr>\n",
       "    <tr>\n",
       "      <th>1</th>\n",
       "      <td>2.24650000000000016342</td>\n",
       "      <td>/nas-slot4/schwurbel2/schwurbelarchiv-NPFJtWIX0R/voice_messages/audio_11582@03-11-2021_19-06-34.ogg</td>\n",
       "      <td>Helfende Q Hände 👐👏</td>\n",
       "      <td>voice_messages/audio_11582@03-11-2021_19-06-34.ogg</td>\n",
       "    </tr>\n",
       "    <tr>\n",
       "      <th>2</th>\n",
       "      <td>528.86649999999997362465</td>\n",
       "      <td>/nas-slot4/schwurbel2/schwurbelarchiv-NPFJtWIX0R/voice_messages/audio_11822@09-11-2021_23-02-35.ogg</td>\n",
       "      <td>Helfende Q Hände 👐👏</td>\n",
       "      <td>voice_messages/audio_11822@09-11-2021_23-02-35.ogg</td>\n",
       "    </tr>\n",
       "    <tr>\n",
       "      <th>3</th>\n",
       "      <td>58.34649999999999891998</td>\n",
       "      <td>/nas-slot4/schwurbel2/schwurbelarchiv-NPFJtWIX0R/voice_messages/audio_11823@09-11-2021_23-36-04.ogg</td>\n",
       "      <td>Helfende Q Hände 👐👏</td>\n",
       "      <td>voice_messages/audio_11823@09-11-2021_23-36-04.ogg</td>\n",
       "    </tr>\n",
       "    <tr>\n",
       "      <th>4</th>\n",
       "      <td>627.14649999999994633981</td>\n",
       "      <td>/nas-slot4/schwurbel2/schwurbelarchiv-NPFJtWIX0R/voice_messages/audio_11572@03-11-2021_17-50-34.ogg</td>\n",
       "      <td>Helfende Q Hände 👐👏</td>\n",
       "      <td>voice_messages/audio_11572@03-11-2021_17-50-34.ogg</td>\n",
       "    </tr>\n",
       "    <tr>\n",
       "      <th>...</th>\n",
       "      <td>...</td>\n",
       "      <td>...</td>\n",
       "      <td>...</td>\n",
       "      <td>...</td>\n",
       "    </tr>\n",
       "    <tr>\n",
       "      <th>68087</th>\n",
       "      <td>880.72000000000002728484</td>\n",
       "      <td>/nas-slot3/schwurbel1/schwurbelarchiv-k0gWcZm18e/video_files/video_212@03-06-2021_19-12-51.mp4</td>\n",
       "      <td>5G - ein Verbrechen?! Gibt es chemtrails??</td>\n",
       "      <td>video_files/video_212@03-06-2021_19-12-51.mp4</td>\n",
       "    </tr>\n",
       "    <tr>\n",
       "      <th>68088</th>\n",
       "      <td>14.72081599999999923511</td>\n",
       "      <td>/nas-slot3/schwurbel1/schwurbelarchiv-k0gWcZm18e/round_video_messages/file_1@01-06-2021_16-09-25.mp4</td>\n",
       "      <td>5G - ein Verbrechen?! Gibt es chemtrails??</td>\n",
       "      <td>round_video_messages/file_1@01-06-2021_16-09-25.mp4</td>\n",
       "    </tr>\n",
       "    <tr>\n",
       "      <th>68089</th>\n",
       "      <td>65.66400000000000147793</td>\n",
       "      <td>/nas-slot3/schwurbel1/schwurbelarchiv-k0gWcZm18e/video_files/video_111@18-11-2020_17-01-45.mp4</td>\n",
       "      <td>5G - ein Verbrechen?! Gibt es chemtrails??</td>\n",
       "      <td>video_files/video_111@18-11-2020_17-01-45.mp4</td>\n",
       "    </tr>\n",
       "    <tr>\n",
       "      <th>68090</th>\n",
       "      <td>90.19385400000000174714</td>\n",
       "      <td>/nas-slot3/schwurbel1/schwurbelarchiv-k0gWcZm18e/video_files/video_121@08-12-2020_13-38-15.mp4</td>\n",
       "      <td>5G - ein Verbrechen?! Gibt es chemtrails??</td>\n",
       "      <td>video_files/video_121@08-12-2020_13-38-15.mp4</td>\n",
       "    </tr>\n",
       "    <tr>\n",
       "      <th>68091</th>\n",
       "      <td>48.96666700000000105319</td>\n",
       "      <td>/nas-slot3/schwurbel1/schwurbelarchiv-k0gWcZm18e/video_files/video_197@20-04-2021_00-01-47.mp4</td>\n",
       "      <td>5G - ein Verbrechen?! Gibt es chemtrails??</td>\n",
       "      <td>video_files/video_197@20-04-2021_00-01-47.mp4</td>\n",
       "    </tr>\n",
       "  </tbody>\n",
       "</table>\n",
       "<p>68092 rows × 4 columns</p>\n",
       "</div>"
      ],
      "text/plain": [
       "                      duration   \n",
       "0     120.62649999999999295142  \\\n",
       "1       2.24650000000000016342   \n",
       "2     528.86649999999997362465   \n",
       "3      58.34649999999999891998   \n",
       "4     627.14649999999994633981   \n",
       "...                        ...   \n",
       "68087 880.72000000000002728484   \n",
       "68088  14.72081599999999923511   \n",
       "68089  65.66400000000000147793   \n",
       "68090  90.19385400000000174714   \n",
       "68091  48.96666700000000105319   \n",
       "\n",
       "                                                                                                   filepath   \n",
       "0       /nas-slot4/schwurbel2/schwurbelarchiv-NPFJtWIX0R/voice_messages/audio_11825@10-11-2021_00-41-43.ogg  \\\n",
       "1       /nas-slot4/schwurbel2/schwurbelarchiv-NPFJtWIX0R/voice_messages/audio_11582@03-11-2021_19-06-34.ogg   \n",
       "2       /nas-slot4/schwurbel2/schwurbelarchiv-NPFJtWIX0R/voice_messages/audio_11822@09-11-2021_23-02-35.ogg   \n",
       "3       /nas-slot4/schwurbel2/schwurbelarchiv-NPFJtWIX0R/voice_messages/audio_11823@09-11-2021_23-36-04.ogg   \n",
       "4       /nas-slot4/schwurbel2/schwurbelarchiv-NPFJtWIX0R/voice_messages/audio_11572@03-11-2021_17-50-34.ogg   \n",
       "...                                                                                                     ...   \n",
       "68087        /nas-slot3/schwurbel1/schwurbelarchiv-k0gWcZm18e/video_files/video_212@03-06-2021_19-12-51.mp4   \n",
       "68088  /nas-slot3/schwurbel1/schwurbelarchiv-k0gWcZm18e/round_video_messages/file_1@01-06-2021_16-09-25.mp4   \n",
       "68089        /nas-slot3/schwurbel1/schwurbelarchiv-k0gWcZm18e/video_files/video_111@18-11-2020_17-01-45.mp4   \n",
       "68090        /nas-slot3/schwurbel1/schwurbelarchiv-k0gWcZm18e/video_files/video_121@08-12-2020_13-38-15.mp4   \n",
       "68091        /nas-slot3/schwurbel1/schwurbelarchiv-k0gWcZm18e/video_files/video_197@20-04-2021_00-01-47.mp4   \n",
       "\n",
       "                                       group_name   \n",
       "0                             Helfende Q Hände 👐👏  \\\n",
       "1                             Helfende Q Hände 👐👏   \n",
       "2                             Helfende Q Hände 👐👏   \n",
       "3                             Helfende Q Hände 👐👏   \n",
       "4                             Helfende Q Hände 👐👏   \n",
       "...                                           ...   \n",
       "68087  5G - ein Verbrechen?! Gibt es chemtrails??   \n",
       "68088  5G - ein Verbrechen?! Gibt es chemtrails??   \n",
       "68089  5G - ein Verbrechen?! Gibt es chemtrails??   \n",
       "68090  5G - ein Verbrechen?! Gibt es chemtrails??   \n",
       "68091  5G - ein Verbrechen?! Gibt es chemtrails??   \n",
       "\n",
       "                                                  filename  \n",
       "0       voice_messages/audio_11825@10-11-2021_00-41-43.ogg  \n",
       "1       voice_messages/audio_11582@03-11-2021_19-06-34.ogg  \n",
       "2       voice_messages/audio_11822@09-11-2021_23-02-35.ogg  \n",
       "3       voice_messages/audio_11823@09-11-2021_23-36-04.ogg  \n",
       "4       voice_messages/audio_11572@03-11-2021_17-50-34.ogg  \n",
       "...                                                    ...  \n",
       "68087        video_files/video_212@03-06-2021_19-12-51.mp4  \n",
       "68088  round_video_messages/file_1@01-06-2021_16-09-25.mp4  \n",
       "68089        video_files/video_111@18-11-2020_17-01-45.mp4  \n",
       "68090        video_files/video_121@08-12-2020_13-38-15.mp4  \n",
       "68091        video_files/video_197@20-04-2021_00-01-47.mp4  \n",
       "\n",
       "[68092 rows x 4 columns]"
      ]
     },
     "execution_count": 20,
     "metadata": {},
     "output_type": "execute_result"
    }
   ],
   "source": [
    "duration_df"
   ]
  },
  {
   "cell_type": "code",
   "execution_count": 17,
   "id": "791e9da8-5ba6-4d04-b99c-9949d173f772",
   "metadata": {},
   "outputs": [],
   "source": [
    "topic_groups_dur = pd.merge(topic_groups.drop(['Unnamed: 0.1', 'Unnamed: 0', 'transcribed_message'], axis = 1),\n",
    "                            duration_df,#.drop([], axis = 1),\n",
    "                            how = 'left',\n",
    "                            left_on = ['media_file', 'group_name'],\n",
    "                            right_on = ['filename', 'group_name']\n",
    "                           )"
   ]
  },
  {
   "cell_type": "code",
   "execution_count": null,
   "id": "813d16cf-f74e-4e24-b13a-76bff615e277",
   "metadata": {},
   "outputs": [],
   "source": [
    "link = '/nas-slot3/schwurbel1/schwurbelarchiv-0dYaKpwqbN/video_files/4_5994532154774653081.mp4'\n",
    "text = transcription_model_small.transcribe(link, fp16=False, language='German')"
   ]
  },
  {
   "cell_type": "code",
   "execution_count": 101,
   "id": "7c5c72ee-4e38-4275-b5cc-dd691e52681e",
   "metadata": {},
   "outputs": [],
   "source": [
    "MIX_group_names = ['BabylonDecoded-Deutsch Chat', 'Weiser mit Kaiser', 'KenFM Ken Jebsen Fanchat Diskussion', 'GEMEINSAMER ANTI CORONALÜGEN - SIEG CHAT! ZUM WIDERSTANDS QUALITÄTSPOSTEN, DISKUSSION UND GEMEINSAMEN GEDANKENAUSTAUSCH', 'BITTEL TV - AUSTAUSCH', 'Alles Ausser Mainstream Chat', 'Klartext reden über Deutschland']"
   ]
  },
  {
   "cell_type": "code",
   "execution_count": 12,
   "id": "7255e6c6-ce86-4373-aae6-b60fd03c0853",
   "metadata": {},
   "outputs": [],
   "source": [
    "def transcription(dataframe_containing_filepath):\n",
    "    \n",
    "    data = dataframe_containing_filepath\n",
    "    \n",
    "    for link in tqdm(data['filepath']):\n",
    "        try:\n",
    "            text = transcription_model_small.transcribe(link, fp16=False, language='German')\n",
    "            transcribed = text.get(\"text\")\n",
    "            data.loc[data['filepath'] == link, 'transcribed_message'] = transcribed\n",
    "        except:\n",
    "            continue\n",
    "        \n",
    "    return data\n",
    "\n",
    "\n",
    "dur_sample = topic_groups_trans.query(\n",
    "    'duration > 60 and duration < 500 and transcribed_message.isna()').groupby(\n",
    "    [\"group_name\"]).sample(\n",
    "    frac = 0.2,random_state = 42)\n",
    "\n",
    "#check the overall length of files per group in minutes\n",
    "#dur_sample.groupby([\"group_name\"])[\"duration\"].sum()/60\n",
    "\n"
   ]
  },
  {
   "cell_type": "code",
   "execution_count": null,
   "id": "5ee2c11e-feff-4e90-9d6e-1c953d0b364f",
   "metadata": {},
   "outputs": [
    {
     "name": "stderr",
     "output_type": "stream",
     "text": [
      "  0%|                                                                                           | 0/481 [00:00<?, ?it/s]"
     ]
    }
   ],
   "source": [
    "start = datetime.datetime.now()\n",
    "transcribed = transcription(dur_sample)\n",
    "end = datetime.datetime.now()\n",
    "print(end-start)\n",
    "\n",
    "#increase nomenklatur\n",
    "transcribed.to_csv('transcribed_messages_df_12.csv.gzip', compression = 'gzip')"
   ]
  },
  {
   "cell_type": "code",
   "execution_count": 11,
   "id": "ad02c259-5dce-488e-a8cd-a356b303cf46",
   "metadata": {},
   "outputs": [],
   "source": [
    "topic_groups_trans['transcribed_message'] = topic_groups_trans['transcribed_message'].combine_first(transcribed['transcribed_message'])"
   ]
  },
  {
   "cell_type": "code",
   "execution_count": null,
   "id": "0f7d8c49-4e77-4eb1-a69d-64ccde0a5823",
   "metadata": {},
   "outputs": [],
   "source": []
  },
  {
   "cell_type": "code",
   "execution_count": 13,
   "id": "3881c573-ea56-4749-a79a-5457b7983ca9",
   "metadata": {},
   "outputs": [
    {
     "data": {
      "text/plain": [
       "(481, 37)"
      ]
     },
     "execution_count": 13,
     "metadata": {},
     "output_type": "execute_result"
    }
   ],
   "source": [
    "dur_sample.shape"
   ]
  },
  {
   "cell_type": "code",
   "execution_count": 58,
   "id": "be43c512-d337-499e-8be6-96857d80d036",
   "metadata": {},
   "outputs": [],
   "source": [
    "topic_groups_trans.to_csv('/home/mangermaier/master_thesis_css/selected_groups_with_transcriptions.csv.gzip', compression = 'gzip')"
   ]
  },
  {
   "cell_type": "code",
   "execution_count": 4,
   "id": "d16b7773-5b78-4b79-90dd-b2413698c147",
   "metadata": {},
   "outputs": [
    {
     "name": "stderr",
     "output_type": "stream",
     "text": [
      "/tmp/ipykernel_802818/1692778980.py:1: DtypeWarning: Columns (11,12,28,33,34,35,36) have mixed types. Specify dtype option on import or set low_memory=False.\n",
      "  topic_groups_trans = pd.read_csv('/home/mangermaier/master_thesis_css/selected_groups_with_transcriptions.csv.gzip', compression = 'gzip')\n"
     ]
    }
   ],
   "source": [
    "topic_groups_trans = pd.read_csv('/home/mangermaier/master_thesis_css/selected_groups_with_transcriptions.csv.gzip', compression = 'gzip')"
   ]
  },
  {
   "cell_type": "code",
   "execution_count": null,
   "id": "bed9b775-0dbb-4955-a1f7-8d74c167038c",
   "metadata": {},
   "outputs": [],
   "source": []
  },
  {
   "cell_type": "code",
   "execution_count": null,
   "id": "4f7a8b7a-0ced-4ef1-87b8-80975887964e",
   "metadata": {},
   "outputs": [],
   "source": []
  },
  {
   "cell_type": "code",
   "execution_count": 32,
   "id": "002c5307-837e-4ff0-8862-399242c7bee6",
   "metadata": {},
   "outputs": [
    {
     "data": {
      "text/plain": [
       "(2735348, 35)"
      ]
     },
     "execution_count": 32,
     "metadata": {},
     "output_type": "execute_result"
    }
   ],
   "source": [
    "topic_groups_trans.query(\n",
    "    'message.notna()'\n",
    ").shape"
   ]
  },
  {
   "cell_type": "code",
   "execution_count": 86,
   "id": "eb9457d6-6457-4d59-bcd7-ad4ebce2818d",
   "metadata": {},
   "outputs": [],
   "source": [
    "transcribed = transcribed.set_index('Unnamed: 0')"
   ]
  },
  {
   "cell_type": "code",
   "execution_count": 34,
   "id": "6131ce64-9c6a-4742-85b7-83fe4093c096",
   "metadata": {},
   "outputs": [
    {
     "data": {
      "text/plain": [
       "(5115, 35)"
      ]
     },
     "execution_count": 34,
     "metadata": {},
     "output_type": "execute_result"
    }
   ],
   "source": [
    "topic_groups_trans.query('transcribed_message.notna()').shape"
   ]
  },
  {
   "cell_type": "code",
   "execution_count": 35,
   "id": "a1133d3e-5740-4546-b77d-9e2004f7e0b1",
   "metadata": {},
   "outputs": [
    {
     "data": {
      "text/plain": [
       "(1807, 35)"
      ]
     },
     "execution_count": 35,
     "metadata": {},
     "output_type": "execute_result"
    }
   ],
   "source": [
    "topic_groups_trans.query('duration > 60 and duration < 180 and transcribed_message.isna()').shape\n"
   ]
  },
  {
   "cell_type": "code",
   "execution_count": 174,
   "id": "e3c4af02-c4c5-46cf-8e34-480f9cba9a87",
   "metadata": {},
   "outputs": [
    {
     "data": {
      "text/plain": [
       "(506, 32)"
      ]
     },
     "execution_count": 174,
     "metadata": {},
     "output_type": "execute_result"
    }
   ],
   "source": [
    "transcribed.shape"
   ]
  },
  {
   "cell_type": "code",
   "execution_count": 20,
   "id": "e553edd6-369d-45da-bad8-104a7bb87f2b",
   "metadata": {},
   "outputs": [
    {
     "data": {
      "text/plain": [
       "Index(['uid', 'mid_message', 'posting_date', 'message', 'fwd_message',\n",
       "       'fwd_posting_date_message', 'mid_file', 'posting_date_file', 'link_url',\n",
       "       'media_file', 'media_file_type', 'fwd_link_url', 'fwd_media_file',\n",
       "       'fwd_media_file_type', 'fwd_posting_date_file', 'group_name',\n",
       "       'posting_date_author', 'author', 'fwd_author', 'day', 'week', 'weekday',\n",
       "       'message_hash', 'fwd_message_hash', 'website', 'message_id',\n",
       "       'replied_to', 'year', 'month', 'day_of_year', 'duration', 'filepath',\n",
       "       'filename', 'filename_if_joined', 'transcribed_message'],\n",
       "      dtype='object')"
      ]
     },
     "execution_count": 20,
     "metadata": {},
     "output_type": "execute_result"
    }
   ],
   "source": [
    "topic_groups_trans.columns"
   ]
  },
  {
   "cell_type": "code",
   "execution_count": 24,
   "id": "0516c325-2f9d-4059-a31c-81e4768aa3ff",
   "metadata": {},
   "outputs": [
    {
     "data": {
      "text/plain": [
       "Index(['Unnamed: 0', 'duration', 'group_name', 'filename', 'filepath',\n",
       "       'transcribed_message', 'uid', 'mid_message', 'posting_date', 'message',\n",
       "       'fwd_message', 'fwd_posting_date_message', 'mid_file',\n",
       "       'posting_date_file', 'link_url', 'media_file', 'media_file_type',\n",
       "       'fwd_link_url', 'fwd_media_file', 'fwd_media_file_type',\n",
       "       'fwd_posting_date_file', 'posting_date_author', 'author', 'fwd_author',\n",
       "       'day', 'week', 'weekday', 'message_hash', 'fwd_message_hash', 'website',\n",
       "       'message_id', 'replied_to', 'filename_if_joined'],\n",
       "      dtype='object')"
      ]
     },
     "execution_count": 24,
     "metadata": {},
     "output_type": "execute_result"
    }
   ],
   "source": [
    "transcribed.columns"
   ]
  },
  {
   "cell_type": "code",
   "execution_count": 18,
   "id": "3f3a33bb-5f44-49d3-bf5b-62b1b66ffcc3",
   "metadata": {},
   "outputs": [],
   "source": [
    "#probably deprecated cause of combine_first function\n",
    "trans = transcribed[list(t1.columns)]\n",
    "topic_groups_trans = pd.merge(topic_groups_dur.drop([], axis = 1),\n",
    "                            trans.drop(['Unnamed: 0', 'duration', 'filepath'], axis = 1),\n",
    "                            how = 'left',\n",
    "                            left_on = ['media_file', 'group_name'],\n",
    "                            right_on = ['filename', 'group_name'], \n",
    "                            suffixes = ('', '_if_joined')\n",
    "                           )"
   ]
  },
  {
   "cell_type": "code",
   "execution_count": 135,
   "id": "7f84f9d3-5456-4adb-9e5f-ab94b449b3c0",
   "metadata": {},
   "outputs": [
    {
     "data": {
      "text/plain": [
       "Index(['Unnamed: 0', 'duration', 'group_name', 'filename', 'filepath',\n",
       "       'transcribed_message'],\n",
       "      dtype='object')"
      ]
     },
     "execution_count": 135,
     "metadata": {},
     "output_type": "execute_result"
    }
   ],
   "source": [
    "transcribed.columns"
   ]
  },
  {
   "cell_type": "code",
   "execution_count": null,
   "id": "c317362c-9bed-4f82-ad33-5af7fc472889",
   "metadata": {},
   "outputs": [],
   "source": []
  },
  {
   "cell_type": "code",
   "execution_count": 71,
   "id": "0250bd62-9f9e-4b68-b55e-7746c8b55f32",
   "metadata": {},
   "outputs": [
    {
     "data": {
      "text/html": [
       "<div>\n",
       "<style scoped>\n",
       "    .dataframe tbody tr th:only-of-type {\n",
       "        vertical-align: middle;\n",
       "    }\n",
       "\n",
       "    .dataframe tbody tr th {\n",
       "        vertical-align: top;\n",
       "    }\n",
       "\n",
       "    .dataframe thead th {\n",
       "        text-align: right;\n",
       "    }\n",
       "</style>\n",
       "<table border=\"1\" class=\"dataframe\">\n",
       "  <thead>\n",
       "    <tr style=\"text-align: right;\">\n",
       "      <th></th>\n",
       "      <th>uid</th>\n",
       "      <th>mid_message</th>\n",
       "      <th>posting_date</th>\n",
       "      <th>message</th>\n",
       "      <th>fwd_message</th>\n",
       "      <th>fwd_posting_date_message</th>\n",
       "      <th>mid_file</th>\n",
       "      <th>posting_date_file</th>\n",
       "      <th>link_url</th>\n",
       "      <th>media_file</th>\n",
       "      <th>...</th>\n",
       "      <th>weekday</th>\n",
       "      <th>message_hash</th>\n",
       "      <th>fwd_message_hash</th>\n",
       "      <th>website</th>\n",
       "      <th>message_id</th>\n",
       "      <th>replied_to</th>\n",
       "      <th>duration</th>\n",
       "      <th>filename</th>\n",
       "      <th>filepath</th>\n",
       "      <th>transcribed_message</th>\n",
       "    </tr>\n",
       "  </thead>\n",
       "  <tbody>\n",
       "    <tr>\n",
       "      <th>0</th>\n",
       "      <td>209982-6408240263544091615</td>\n",
       "      <td>209982.0</td>\n",
       "      <td>2021-11-09 22:50:15+00:00</td>\n",
       "      <td>Oki 😃</td>\n",
       "      <td>NaN</td>\n",
       "      <td>NaN</td>\n",
       "      <td>209982.0</td>\n",
       "      <td>2021-11-09 22:50:15+00:00</td>\n",
       "      <td>messages199.html#go_to_message209980</td>\n",
       "      <td>NaN</td>\n",
       "      <td>...</td>\n",
       "      <td>2.0</td>\n",
       "      <td>-3.596942e+18</td>\n",
       "      <td>NaN</td>\n",
       "      <td>messages199.html</td>\n",
       "      <td>209982.0</td>\n",
       "      <td>209980-6408240263544091615</td>\n",
       "      <td>NaN</td>\n",
       "      <td>NaN</td>\n",
       "      <td>NaN</td>\n",
       "      <td>NaN</td>\n",
       "    </tr>\n",
       "    <tr>\n",
       "      <th>1</th>\n",
       "      <td>209983-6408240263544091615</td>\n",
       "      <td>209983.0</td>\n",
       "      <td>2021-11-09 22:50:18+00:00</td>\n",
       "      <td>Von weiblich bis männlich</td>\n",
       "      <td>NaN</td>\n",
       "      <td>NaN</td>\n",
       "      <td>NaN</td>\n",
       "      <td>NaN</td>\n",
       "      <td>NaN</td>\n",
       "      <td>NaN</td>\n",
       "      <td>...</td>\n",
       "      <td>2.0</td>\n",
       "      <td>-7.438051e+18</td>\n",
       "      <td>NaN</td>\n",
       "      <td>NaN</td>\n",
       "      <td>209983.0</td>\n",
       "      <td>NaN</td>\n",
       "      <td>NaN</td>\n",
       "      <td>NaN</td>\n",
       "      <td>NaN</td>\n",
       "      <td>NaN</td>\n",
       "    </tr>\n",
       "    <tr>\n",
       "      <th>2</th>\n",
       "      <td>209984-6408240263544091615</td>\n",
       "      <td>209984.0</td>\n",
       "      <td>2021-11-09 22:50:23+00:00</td>\n",
       "      <td>Von direkt zu zurückhaltend</td>\n",
       "      <td>NaN</td>\n",
       "      <td>NaN</td>\n",
       "      <td>NaN</td>\n",
       "      <td>NaN</td>\n",
       "      <td>NaN</td>\n",
       "      <td>NaN</td>\n",
       "      <td>...</td>\n",
       "      <td>2.0</td>\n",
       "      <td>-5.141813e+18</td>\n",
       "      <td>NaN</td>\n",
       "      <td>NaN</td>\n",
       "      <td>209984.0</td>\n",
       "      <td>NaN</td>\n",
       "      <td>NaN</td>\n",
       "      <td>NaN</td>\n",
       "      <td>NaN</td>\n",
       "      <td>NaN</td>\n",
       "    </tr>\n",
       "    <tr>\n",
       "      <th>3</th>\n",
       "      <td>209985-6408240263544091615</td>\n",
       "      <td>209985.0</td>\n",
       "      <td>2021-11-09 22:50:28+00:00</td>\n",
       "      <td>Wie bei WOW</td>\n",
       "      <td>NaN</td>\n",
       "      <td>NaN</td>\n",
       "      <td>NaN</td>\n",
       "      <td>NaN</td>\n",
       "      <td>NaN</td>\n",
       "      <td>NaN</td>\n",
       "      <td>...</td>\n",
       "      <td>2.0</td>\n",
       "      <td>4.179569e+18</td>\n",
       "      <td>NaN</td>\n",
       "      <td>NaN</td>\n",
       "      <td>209985.0</td>\n",
       "      <td>NaN</td>\n",
       "      <td>NaN</td>\n",
       "      <td>NaN</td>\n",
       "      <td>NaN</td>\n",
       "      <td>NaN</td>\n",
       "    </tr>\n",
       "    <tr>\n",
       "      <th>4</th>\n",
       "      <td>209986-6408240263544091615</td>\n",
       "      <td>209986.0</td>\n",
       "      <td>2021-11-09 22:50:47+00:00</td>\n",
       "      <td>Neuer Charakter und XP sammeln</td>\n",
       "      <td>NaN</td>\n",
       "      <td>NaN</td>\n",
       "      <td>NaN</td>\n",
       "      <td>NaN</td>\n",
       "      <td>NaN</td>\n",
       "      <td>NaN</td>\n",
       "      <td>...</td>\n",
       "      <td>2.0</td>\n",
       "      <td>3.772441e+18</td>\n",
       "      <td>NaN</td>\n",
       "      <td>NaN</td>\n",
       "      <td>209986.0</td>\n",
       "      <td>NaN</td>\n",
       "      <td>NaN</td>\n",
       "      <td>NaN</td>\n",
       "      <td>NaN</td>\n",
       "      <td>NaN</td>\n",
       "    </tr>\n",
       "    <tr>\n",
       "      <th>...</th>\n",
       "      <td>...</td>\n",
       "      <td>...</td>\n",
       "      <td>...</td>\n",
       "      <td>...</td>\n",
       "      <td>...</td>\n",
       "      <td>...</td>\n",
       "      <td>...</td>\n",
       "      <td>...</td>\n",
       "      <td>...</td>\n",
       "      <td>...</td>\n",
       "      <td>...</td>\n",
       "      <td>...</td>\n",
       "      <td>...</td>\n",
       "      <td>...</td>\n",
       "      <td>...</td>\n",
       "      <td>...</td>\n",
       "      <td>...</td>\n",
       "      <td>...</td>\n",
       "      <td>...</td>\n",
       "      <td>...</td>\n",
       "      <td>...</td>\n",
       "    </tr>\n",
       "    <tr>\n",
       "      <th>3258423</th>\n",
       "      <td>23042104945287925667135</td>\n",
       "      <td>NaN</td>\n",
       "      <td>NaN</td>\n",
       "      <td>NaN</td>\n",
       "      <td>NaN</td>\n",
       "      <td>NaN</td>\n",
       "      <td>NaN</td>\n",
       "      <td>NaN</td>\n",
       "      <td>NaN</td>\n",
       "      <td>NaN</td>\n",
       "      <td>...</td>\n",
       "      <td>NaN</td>\n",
       "      <td>NaN</td>\n",
       "      <td>NaN</td>\n",
       "      <td>NaN</td>\n",
       "      <td>NaN</td>\n",
       "      <td>NaN</td>\n",
       "      <td>NaN</td>\n",
       "      <td>NaN</td>\n",
       "      <td>NaN</td>\n",
       "      <td>NaN</td>\n",
       "    </tr>\n",
       "    <tr>\n",
       "      <th>3258424</th>\n",
       "      <td>23180104945287925667135</td>\n",
       "      <td>NaN</td>\n",
       "      <td>NaN</td>\n",
       "      <td>NaN</td>\n",
       "      <td>NaN</td>\n",
       "      <td>NaN</td>\n",
       "      <td>NaN</td>\n",
       "      <td>NaN</td>\n",
       "      <td>NaN</td>\n",
       "      <td>NaN</td>\n",
       "      <td>...</td>\n",
       "      <td>NaN</td>\n",
       "      <td>NaN</td>\n",
       "      <td>NaN</td>\n",
       "      <td>NaN</td>\n",
       "      <td>NaN</td>\n",
       "      <td>NaN</td>\n",
       "      <td>NaN</td>\n",
       "      <td>NaN</td>\n",
       "      <td>NaN</td>\n",
       "      <td>NaN</td>\n",
       "    </tr>\n",
       "    <tr>\n",
       "      <th>3258425</th>\n",
       "      <td>23198104945287925667135</td>\n",
       "      <td>NaN</td>\n",
       "      <td>NaN</td>\n",
       "      <td>NaN</td>\n",
       "      <td>NaN</td>\n",
       "      <td>NaN</td>\n",
       "      <td>NaN</td>\n",
       "      <td>NaN</td>\n",
       "      <td>NaN</td>\n",
       "      <td>NaN</td>\n",
       "      <td>...</td>\n",
       "      <td>NaN</td>\n",
       "      <td>NaN</td>\n",
       "      <td>NaN</td>\n",
       "      <td>NaN</td>\n",
       "      <td>NaN</td>\n",
       "      <td>NaN</td>\n",
       "      <td>NaN</td>\n",
       "      <td>NaN</td>\n",
       "      <td>NaN</td>\n",
       "      <td>NaN</td>\n",
       "    </tr>\n",
       "    <tr>\n",
       "      <th>3258426</th>\n",
       "      <td>23213104945287925667135</td>\n",
       "      <td>NaN</td>\n",
       "      <td>NaN</td>\n",
       "      <td>NaN</td>\n",
       "      <td>NaN</td>\n",
       "      <td>NaN</td>\n",
       "      <td>NaN</td>\n",
       "      <td>NaN</td>\n",
       "      <td>NaN</td>\n",
       "      <td>NaN</td>\n",
       "      <td>...</td>\n",
       "      <td>NaN</td>\n",
       "      <td>NaN</td>\n",
       "      <td>NaN</td>\n",
       "      <td>NaN</td>\n",
       "      <td>NaN</td>\n",
       "      <td>NaN</td>\n",
       "      <td>NaN</td>\n",
       "      <td>NaN</td>\n",
       "      <td>NaN</td>\n",
       "      <td>NaN</td>\n",
       "    </tr>\n",
       "    <tr>\n",
       "      <th>3258427</th>\n",
       "      <td>23282104945287925667135</td>\n",
       "      <td>NaN</td>\n",
       "      <td>NaN</td>\n",
       "      <td>NaN</td>\n",
       "      <td>NaN</td>\n",
       "      <td>NaN</td>\n",
       "      <td>NaN</td>\n",
       "      <td>NaN</td>\n",
       "      <td>NaN</td>\n",
       "      <td>NaN</td>\n",
       "      <td>...</td>\n",
       "      <td>NaN</td>\n",
       "      <td>NaN</td>\n",
       "      <td>NaN</td>\n",
       "      <td>NaN</td>\n",
       "      <td>NaN</td>\n",
       "      <td>NaN</td>\n",
       "      <td>NaN</td>\n",
       "      <td>NaN</td>\n",
       "      <td>NaN</td>\n",
       "      <td>NaN</td>\n",
       "    </tr>\n",
       "  </tbody>\n",
       "</table>\n",
       "<p>3257856 rows × 31 columns</p>\n",
       "</div>"
      ],
      "text/plain": [
       "                                uid  mid_message               posting_date   \n",
       "0        209982-6408240263544091615     209982.0  2021-11-09 22:50:15+00:00  \\\n",
       "1        209983-6408240263544091615     209983.0  2021-11-09 22:50:18+00:00   \n",
       "2        209984-6408240263544091615     209984.0  2021-11-09 22:50:23+00:00   \n",
       "3        209985-6408240263544091615     209985.0  2021-11-09 22:50:28+00:00   \n",
       "4        209986-6408240263544091615     209986.0  2021-11-09 22:50:47+00:00   \n",
       "...                             ...          ...                        ...   \n",
       "3258423     23042104945287925667135          NaN                        NaN   \n",
       "3258424     23180104945287925667135          NaN                        NaN   \n",
       "3258425     23198104945287925667135          NaN                        NaN   \n",
       "3258426     23213104945287925667135          NaN                        NaN   \n",
       "3258427     23282104945287925667135          NaN                        NaN   \n",
       "\n",
       "                                       message  fwd_message   \n",
       "0                                 Oki 😃                 NaN  \\\n",
       "1             Von weiblich bis männlich                 NaN   \n",
       "2           Von direkt zu zurückhaltend                 NaN   \n",
       "3                           Wie bei WOW                 NaN   \n",
       "4        Neuer Charakter und XP sammeln                 NaN   \n",
       "...                                        ...          ...   \n",
       "3258423                                    NaN          NaN   \n",
       "3258424                                    NaN          NaN   \n",
       "3258425                                    NaN          NaN   \n",
       "3258426                                    NaN          NaN   \n",
       "3258427                                    NaN          NaN   \n",
       "\n",
       "         fwd_posting_date_message  mid_file          posting_date_file   \n",
       "0                             NaN  209982.0  2021-11-09 22:50:15+00:00  \\\n",
       "1                             NaN       NaN                        NaN   \n",
       "2                             NaN       NaN                        NaN   \n",
       "3                             NaN       NaN                        NaN   \n",
       "4                             NaN       NaN                        NaN   \n",
       "...                           ...       ...                        ...   \n",
       "3258423                       NaN       NaN                        NaN   \n",
       "3258424                       NaN       NaN                        NaN   \n",
       "3258425                       NaN       NaN                        NaN   \n",
       "3258426                       NaN       NaN                        NaN   \n",
       "3258427                       NaN       NaN                        NaN   \n",
       "\n",
       "                                     link_url media_file  ... weekday   \n",
       "0        messages199.html#go_to_message209980        NaN  ...     2.0  \\\n",
       "1                                         NaN        NaN  ...     2.0   \n",
       "2                                         NaN        NaN  ...     2.0   \n",
       "3                                         NaN        NaN  ...     2.0   \n",
       "4                                         NaN        NaN  ...     2.0   \n",
       "...                                       ...        ...  ...     ...   \n",
       "3258423                                   NaN        NaN  ...     NaN   \n",
       "3258424                                   NaN        NaN  ...     NaN   \n",
       "3258425                                   NaN        NaN  ...     NaN   \n",
       "3258426                                   NaN        NaN  ...     NaN   \n",
       "3258427                                   NaN        NaN  ...     NaN   \n",
       "\n",
       "         message_hash fwd_message_hash           website message_id   \n",
       "0       -3.596942e+18              NaN  messages199.html   209982.0  \\\n",
       "1       -7.438051e+18              NaN               NaN   209983.0   \n",
       "2       -5.141813e+18              NaN               NaN   209984.0   \n",
       "3        4.179569e+18              NaN               NaN   209985.0   \n",
       "4        3.772441e+18              NaN               NaN   209986.0   \n",
       "...               ...              ...               ...        ...   \n",
       "3258423           NaN              NaN               NaN        NaN   \n",
       "3258424           NaN              NaN               NaN        NaN   \n",
       "3258425           NaN              NaN               NaN        NaN   \n",
       "3258426           NaN              NaN               NaN        NaN   \n",
       "3258427           NaN              NaN               NaN        NaN   \n",
       "\n",
       "                         replied_to duration  filename  filepath   \n",
       "0        209980-6408240263544091615      NaN       NaN       NaN  \\\n",
       "1                               NaN      NaN       NaN       NaN   \n",
       "2                               NaN      NaN       NaN       NaN   \n",
       "3                               NaN      NaN       NaN       NaN   \n",
       "4                               NaN      NaN       NaN       NaN   \n",
       "...                             ...      ...       ...       ...   \n",
       "3258423                         NaN      NaN       NaN       NaN   \n",
       "3258424                         NaN      NaN       NaN       NaN   \n",
       "3258425                         NaN      NaN       NaN       NaN   \n",
       "3258426                         NaN      NaN       NaN       NaN   \n",
       "3258427                         NaN      NaN       NaN       NaN   \n",
       "\n",
       "        transcribed_message  \n",
       "0                       NaN  \n",
       "1                       NaN  \n",
       "2                       NaN  \n",
       "3                       NaN  \n",
       "4                       NaN  \n",
       "...                     ...  \n",
       "3258423                 NaN  \n",
       "3258424                 NaN  \n",
       "3258425                 NaN  \n",
       "3258426                 NaN  \n",
       "3258427                 NaN  \n",
       "\n",
       "[3257856 rows x 31 columns]"
      ]
     },
     "execution_count": 71,
     "metadata": {},
     "output_type": "execute_result"
    }
   ],
   "source": [
    "topic_groups_enh[topic_groups_enh['transcribed_message'] != topic_groups_enh['transcribed_message']]"
   ]
  },
  {
   "cell_type": "code",
   "execution_count": null,
   "id": "d540c106-b973-4d77-a374-6ab7bcdacd6a",
   "metadata": {},
   "outputs": [],
   "source": []
  }
 ],
 "metadata": {
  "kernelspec": {
   "display_name": "Python 3 (ipykernel)",
   "language": "python",
   "name": "python3"
  },
  "language_info": {
   "codemirror_mode": {
    "name": "ipython",
    "version": 3
   },
   "file_extension": ".py",
   "mimetype": "text/x-python",
   "name": "python",
   "nbconvert_exporter": "python",
   "pygments_lexer": "ipython3",
   "version": "3.8.11"
  }
 },
 "nbformat": 4,
 "nbformat_minor": 5
}
