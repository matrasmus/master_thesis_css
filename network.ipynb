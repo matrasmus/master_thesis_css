{
 "cells": [
  {
   "cell_type": "code",
   "execution_count": 2,
   "id": "46043425-08ec-411c-9fae-aacae9c9a049",
   "metadata": {},
   "outputs": [],
   "source": [
    "import pandas as pd\n",
    "import numpy as np\n",
    "import scipy.stats as st\n",
    "import statistics\n",
    "from pathlib import Path\n",
    "import datetime\n",
    "\n",
    "import requests\n",
    "import re\n",
    "import os\n",
    "import sys\n",
    "\n",
    "\n",
    "from multiprocess import Pool\n",
    "import psutil\n",
    "from tqdm import tqdm\n",
    "\n",
    "from bs4 import BeautifulSoup\n",
    "\n",
    "import glob\n",
    "\n",
    "import matplotlib.pyplot as plt"
   ]
  },
  {
   "cell_type": "code",
   "execution_count": null,
   "id": "96fdc413-581b-44af-a945-9bbb122c37c4",
   "metadata": {},
   "outputs": [],
   "source": []
  },
  {
   "cell_type": "code",
   "execution_count": null,
   "id": "f53a4ecb-ab77-4c79-9b4d-341ebb17c80f",
   "metadata": {},
   "outputs": [],
   "source": []
  },
  {
   "cell_type": "code",
   "execution_count": 29,
   "id": "9bb104bb-6f8e-4ca9-9974-b910147356c0",
   "metadata": {},
   "outputs": [],
   "source": [
    "import networkx as nx\n",
    "\n",
    "\n",
    "import pydot\n",
    "from networkx.drawing.nx_pydot import graphviz_layout\n",
    "\n",
    "from community import community_louvain as community"
   ]
  },
  {
   "cell_type": "code",
   "execution_count": null,
   "id": "719e913b-8dc1-4767-8a71-079ec241f2c7",
   "metadata": {},
   "outputs": [],
   "source": [
    "#data = pd.read_csv('your_path_to_file/sample_date.csv.gzip', compression = 'gzip')"
   ]
  },
  {
   "cell_type": "code",
   "execution_count": 157,
   "id": "bd2a56be-042e-474c-af71-67b2067d6486",
   "metadata": {},
   "outputs": [],
   "source": [
    "a_nodes = data.query(\"message_hash in fwd_message_hash and not (message_hash != message_hash)\") "
   ]
  },
  {
   "cell_type": "code",
   "execution_count": 139,
   "id": "cec67237-8be0-45e7-9815-6fe474472875",
   "metadata": {},
   "outputs": [],
   "source": [
    "#defining sample size, as full dataset takes longer than 12 hours\n",
    "a_nodes = a_nodes.head(2000)"
   ]
  },
  {
   "cell_type": "code",
   "execution_count": 140,
   "id": "082a1221-f127-4fcd-95d8-27f1f001cc72",
   "metadata": {},
   "outputs": [],
   "source": [
    "a_tup = tuple([a_nodes['group_name'].tolist(), a_nodes['message_hash'].tolist(), a_nodes['author'].tolist()])"
   ]
  },
  {
   "cell_type": "code",
   "execution_count": 141,
   "id": "33135d01-4428-4c59-ac7a-086aeefb505f",
   "metadata": {},
   "outputs": [],
   "source": [
    "a_edge = []\n",
    "for i in range(len(a_tup[0])):\n",
    "    try:\n",
    "        tmp = data['group_name'][(data['fwd_message_hash'] == a_tup[1][i]) & (data['fwd_author'] == a_tup[2][i])]\n",
    "        a = tmp.tolist()[0]\n",
    "        \n",
    "    except:\n",
    "        continue\n",
    "    \n",
    "    a_edge.append((a_tup[0][i], a))"
   ]
  },
  {
   "cell_type": "code",
   "execution_count": 142,
   "id": "68be9138-3ec1-44b0-9b48-8c7b985fe149",
   "metadata": {},
   "outputs": [],
   "source": [
    "G = nx.complete_graph(1)\n",
    "\n",
    "G.add_nodes_from(a_tup[0])\n",
    "\n",
    "G.add_edges_from(a_edge)\n",
    "\n",
    "nodes_to_remove = [node for node in G.nodes() if G.degree(node) < 1]\n",
    "\n",
    "G.remove_nodes_from(nodes_to_remove)"
   ]
  },
  {
   "cell_type": "code",
   "execution_count": null,
   "id": "30fa8014-6ece-4283-8f72-4dec771f1868",
   "metadata": {},
   "outputs": [],
   "source": []
  },
  {
   "cell_type": "code",
   "execution_count": 145,
   "id": "bb509a5d-34df-43bf-83a3-831fabb1fd8d",
   "metadata": {},
   "outputs": [],
   "source": [
    "partition = community.best_partition(G)"
   ]
  },
  {
   "cell_type": "code",
   "execution_count": null,
   "id": "9ea051ac-1ba1-4205-bd42-a833f36613ce",
   "metadata": {},
   "outputs": [],
   "source": [
    "pos = nx.spring_layout(G)\n",
    "fig, ax = plt.subplots(figsize=(24,20))\n",
    "\n",
    "nx.draw(G, pos, ax = ax, with_labels=False, node_size=30, cmap=plt.cm.jet, node_color=list(partition.values()))\n",
    "plt.show()"
   ]
  },
  {
   "cell_type": "code",
   "execution_count": null,
   "id": "20f81b54-3adc-4c27-9250-2536c9c8557b",
   "metadata": {},
   "outputs": [],
   "source": []
  },
  {
   "cell_type": "code",
   "execution_count": null,
   "id": "a84bd18b-d03d-48c5-8bb7-bb8295793ed3",
   "metadata": {},
   "outputs": [],
   "source": [
    "# Compute the best partition\n",
    "partition = community.best_partition(G)\n",
    "\n",
    "# Draw the graph\n",
    "pos = nx.spring_layout(G)\n",
    "nx.draw_networkx_nodes(G, pos, partition.keys(), node_size=30,\n",
    "                       cmap=plt.cm.jet, node_color=list(partition.values()))\n",
    "nx.draw_networkx_edges(G, pos, alpha=0.7)\n",
    "\n"
   ]
  },
  {
   "cell_type": "code",
   "execution_count": null,
   "id": "95a0820f-0441-43e0-9359-c9dbed8d93b3",
   "metadata": {},
   "outputs": [],
   "source": []
  },
  {
   "cell_type": "code",
   "execution_count": 149,
   "id": "2dd6b3f8-5906-4f0b-a251-8c654a70c79a",
   "metadata": {},
   "outputs": [],
   "source": [
    "#close_centrality = nx.closeness_centrality(G)\n",
    "#bet_centrality = nx.betweenness_centrality(G, normalized = True,\n",
    "#\t\t\t\t\t\t\t\t\t\t\tendpoints = False)"
   ]
  },
  {
   "cell_type": "code",
   "execution_count": null,
   "id": "eb436ea5-9824-450c-9131-7aa8b7d111d3",
   "metadata": {},
   "outputs": [],
   "source": []
  },
  {
   "cell_type": "code",
   "execution_count": 151,
   "id": "2c6c435c-deea-43a8-b427-e2dbf71dd684",
   "metadata": {},
   "outputs": [],
   "source": [
    "#mean degree\n",
    "degrees = [val for (node, val) in G.degree()]\n",
    "sum(degrees)/len(degrees)"
   ]
  },
  {
   "cell_type": "code",
   "execution_count": 152,
   "id": "7e8be5fa-ddc9-4219-b872-2c453d7139c0",
   "metadata": {},
   "outputs": [
    {
     "data": {
      "text/plain": [
       "5.4146868250539955"
      ]
     },
     "execution_count": 152,
     "metadata": {},
     "output_type": "execute_result"
    }
   ],
   "source": []
  },
  {
   "cell_type": "code",
   "execution_count": 161,
   "id": "d0fe8d3e-7f66-40c2-a84f-3c7cf8b634b0",
   "metadata": {},
   "outputs": [],
   "source": [
    "#modularity\n",
    "mod = community.modularity(partition, G)"
   ]
  },
  {
   "cell_type": "code",
   "execution_count": null,
   "id": "84be927d-4d52-4e89-b764-31763c55606f",
   "metadata": {},
   "outputs": [],
   "source": []
  },
  {
   "cell_type": "code",
   "execution_count": 155,
   "id": "a70cd99a-9b97-4ca2-93cb-9ed789766462",
   "metadata": {},
   "outputs": [],
   "source": [
    "#centrality\n",
    "deg_centrality = nx.degree_centrality(G)\n",
    "\n",
    "cent = []\n",
    "for i in deg_centrality:\n",
    "    cent.append(deg_centrality[i])"
   ]
  },
  {
   "cell_type": "code",
   "execution_count": null,
   "id": "41938e84-03f4-463b-9a98-bb6f648f8104",
   "metadata": {},
   "outputs": [],
   "source": []
  },
  {
   "cell_type": "code",
   "execution_count": null,
   "id": "eb1339fb-47eb-4d19-b1e0-eedbee17a2e1",
   "metadata": {},
   "outputs": [],
   "source": []
  }
 ],
 "metadata": {
  "kernelspec": {
   "display_name": "Python 3 (ipykernel)",
   "language": "python",
   "name": "python3"
  },
  "language_info": {
   "codemirror_mode": {
    "name": "ipython",
    "version": 3
   },
   "file_extension": ".py",
   "mimetype": "text/x-python",
   "name": "python",
   "nbconvert_exporter": "python",
   "pygments_lexer": "ipython3",
   "version": "3.8.11"
  }
 },
 "nbformat": 4,
 "nbformat_minor": 5
}
