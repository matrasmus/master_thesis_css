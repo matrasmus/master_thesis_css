{
 "cells": [
  {
   "cell_type": "code",
   "execution_count": 2,
   "id": "46043425-08ec-411c-9fae-aacae9c9a049",
   "metadata": {},
   "outputs": [],
   "source": [
    "import pandas as pd\n",
    "import numpy as np\n",
    "from sklearn.model_selection import train_test_split\n",
    "from sklearn.linear_model import LogisticRegression\n",
    "from sklearn import metrics\n",
    "import matplotlib.pyplot as plt\n",
    "import pickle\n",
    "from tqdm import tqdm\n",
    "from pandarallel import pandarallel\n"
   ]
  },
  {
   "cell_type": "code",
   "execution_count": 3,
   "id": "de4d971c-3787-4765-936e-f05ddbaaade2",
   "metadata": {},
   "outputs": [],
   "source": [
    "import nltk\n",
    "corp = nltk.corpus.ConllCorpusReader('.', 'tiger_release_aug07.corrected.16012013.conll09',\n",
    "                                     ['ignore', 'words', 'ignore', 'ignore', 'pos'],\n",
    "                                     encoding='utf-8')"
   ]
  },
  {
   "cell_type": "code",
   "execution_count": 4,
   "id": "6a2e9256-9bd3-4528-b3b4-f78948d96cb1",
   "metadata": {},
   "outputs": [],
   "source": [
    "# displaying options\n",
    "pd.set_option('display.float_format', '{:.20f}'.format)\n",
    "pd.set_option('display.max_columns', None)\n",
    "pd.set_option('display.max_colwidth', None)\n",
    "# deprecation warning set off\n",
    "pd.options.mode.chained_assignment = None "
   ]
  },
  {
   "cell_type": "code",
   "execution_count": 22,
   "id": "de8fbada-7b84-4d3c-9c3f-ab648390ebb3",
   "metadata": {},
   "outputs": [],
   "source": [
    "data = pd.read_csv('full_analysis.csv')"
   ]
  },
  {
   "cell_type": "code",
   "execution_count": null,
   "id": "bb392006-bb96-43c4-83bd-21895516b5fa",
   "metadata": {},
   "outputs": [],
   "source": []
  },
  {
   "cell_type": "code",
   "execution_count": 80,
   "id": "1b9ded4d-3d2f-4dd6-8602-e4da0f8fbf02",
   "metadata": {},
   "outputs": [],
   "source": [
    "zehring = pd.read_csv('Querdenken_Labeled_Backbone.csv')"
   ]
  },
  {
   "cell_type": "code",
   "execution_count": 6,
   "id": "d540c106-b973-4d77-a374-6ab7bcdacd6a",
   "metadata": {},
   "outputs": [
    {
     "data": {
      "text/plain": [
       "0.9403395692501179"
      ]
     },
     "execution_count": 6,
     "metadata": {},
     "output_type": "execute_result"
    }
   ],
   "source": [
    "import pandas as pd\n",
    "import numpy as np\n",
    "from sklearn.model_selection import train_test_split\n",
    "from sklearn.linear_model import LogisticRegression\n",
    "from sklearn import metrics\n",
    "import matplotlib.pyplot as plt\n",
    "\n",
    "import nltk\n",
    "corp = nltk.corpus.ConllCorpusReader('.', 'tiger_release_aug07.corrected.16012013.conll09',\n",
    "                                     ['ignore', 'words', 'ignore', 'ignore', 'pos'],\n",
    "                                     encoding='utf-8')\n",
    "\n",
    "import random\n",
    "\n",
    "tagged_sents = list(corp.tagged_sents())\n",
    "random.shuffle(tagged_sents)\n",
    "\n",
    "# set a split size: use 90% for training, 10% for testing\n",
    "split_perc = 0.1\n",
    "split_size = int(len(tagged_sents) * split_perc)\n",
    "train_sents, test_sents = tagged_sents[split_size:], tagged_sents[:split_size]\n",
    "\n",
    "from ClassifierBasedGermanTagger.ClassifierBasedGermanTagger import ClassifierBasedGermanTagger\n",
    "\n",
    "tagger = ClassifierBasedGermanTagger(train=train_sents)\n",
    "accuracy = tagger.evaluate(test_sents)\n",
    "accuracy"
   ]
  },
  {
   "cell_type": "code",
   "execution_count": 7,
   "id": "958bfb68-778d-4e8d-9888-1ade3aa261ed",
   "metadata": {},
   "outputs": [],
   "source": [
    "def action_quotient(text): \n",
    "    \n",
    "    verbs = [\"VAFIN\", \"VVFIN\", \"VMFIN\", \"VVPP\", \"VVINF\", \"VAINF\"]\n",
    "    adjectives = [\"ADJD\"]\n",
    "    \n",
    "    split = text.split()\n",
    "    \n",
    "    if len(split) > 5000:\n",
    "        split = random.sample(split, 5000)\n",
    "    \n",
    "    bundle = tagger.tag(split)\n",
    "    \n",
    "    v = [t for t in bundle if t[1] in verbs]\n",
    "    a = [t for t in bundle if t[1] in adjectives]\n",
    "    \n",
    "    quotient = len(a) and len(v)/len(a) or 0\n",
    "    \n",
    "    return quotient"
   ]
  },
  {
   "cell_type": "code",
   "execution_count": 35,
   "id": "6334aee6-bd60-42a4-9a38-763f0dfa083f",
   "metadata": {},
   "outputs": [],
   "source": [
    "with open('final_key_dict.pkl', 'rb') as fp:\n",
    "    final_key_dict = pickle.load(fp)"
   ]
  },
  {
   "cell_type": "code",
   "execution_count": null,
   "id": "3b473d82-c14b-4f66-9397-12410a9bcd43",
   "metadata": {},
   "outputs": [],
   "source": [
    "data['action_quotient'] = data['messages_processed'].parallel_apply(action_quotient)"
   ]
  },
  {
   "cell_type": "code",
   "execution_count": null,
   "id": "b23a773e-2a2f-4669-bdd9-19088e091e06",
   "metadata": {},
   "outputs": [],
   "source": []
  },
  {
   "cell_type": "code",
   "execution_count": null,
   "id": "4e6a8b1d-af4f-41ea-91a5-6a3b0db12053",
   "metadata": {},
   "outputs": [],
   "source": [
    "    "
   ]
  },
  {
   "cell_type": "code",
   "execution_count": null,
   "id": "800988ca-1760-4d25-83be-78ab1b7b28e2",
   "metadata": {},
   "outputs": [],
   "source": []
  },
  {
   "cell_type": "code",
   "execution_count": null,
   "id": "dff2727c-3400-4e68-8b2e-d1c4317a2ce3",
   "metadata": {},
   "outputs": [],
   "source": []
  },
  {
   "cell_type": "code",
   "execution_count": 36,
   "id": "b2375a59-f65f-41e1-a4a8-e37993b20cc6",
   "metadata": {},
   "outputs": [
    {
     "name": "stdout",
     "output_type": "stream",
     "text": [
      "INFO: Pandarallel will run on 50 workers.\n",
      "INFO: Pandarallel will use Memory file system to transfer data between the main process and workers.\n"
     ]
    }
   ],
   "source": [
    "pandarallel.initialize(nb_workers = 50, progress_bar = True)\n"
   ]
  },
  {
   "cell_type": "code",
   "execution_count": null,
   "id": "b72085f8-317a-488b-8dde-0a4922779850",
   "metadata": {},
   "outputs": [],
   "source": []
  },
  {
   "cell_type": "code",
   "execution_count": null,
   "id": "49861801-5dd1-4707-bdeb-c70a39ab3026",
   "metadata": {},
   "outputs": [],
   "source": []
  },
  {
   "cell_type": "code",
   "execution_count": 32,
   "id": "b853378a-5a79-4df6-ac56-4fc9aef86c2c",
   "metadata": {},
   "outputs": [],
   "source": [
    "data.to_csv('fa_POS.csv.gzip', compression = 'gzip')"
   ]
  },
  {
   "cell_type": "code",
   "execution_count": 4,
   "id": "d5c0c1eb-94e7-469c-9366-c7c46a1482a9",
   "metadata": {},
   "outputs": [],
   "source": [
    "import random\n",
    "\n",
    "tagged_sents = list(corp.tagged_sents())\n",
    "random.shuffle(tagged_sents)\n",
    "\n",
    "# set a split size: use 90% for training, 10% for testing\n",
    "split_perc = 0.1\n",
    "split_size = int(len(tagged_sents) * split_perc)\n",
    "train_sents, test_sents = tagged_sents[split_size:], tagged_sents[:split_size]"
   ]
  },
  {
   "cell_type": "code",
   "execution_count": 8,
   "id": "c22fe265-6316-4218-a590-d1fd4b74ab28",
   "metadata": {},
   "outputs": [],
   "source": [
    "from ClassifierBasedGermanTagger.ClassifierBasedGermanTagger import ClassifierBasedGermanTagger\n"
   ]
  },
  {
   "cell_type": "code",
   "execution_count": 9,
   "id": "3888e227-ca95-4e45-8628-6d071ce54bde",
   "metadata": {},
   "outputs": [],
   "source": [
    "tagger = ClassifierBasedGermanTagger(train=train_sents)"
   ]
  },
  {
   "cell_type": "code",
   "execution_count": 10,
   "id": "76d689b4-e10b-4a4d-a0c4-17c6a76d7afc",
   "metadata": {},
   "outputs": [],
   "source": [
    "accuracy = tagger.evaluate(test_sents)"
   ]
  },
  {
   "cell_type": "code",
   "execution_count": 11,
   "id": "cdc1902f-01aa-421b-af2f-78cd1ce52be6",
   "metadata": {},
   "outputs": [
    {
     "data": {
      "text/plain": [
       "0.9402547524628723"
      ]
     },
     "execution_count": 11,
     "metadata": {},
     "output_type": "execute_result"
    }
   ],
   "source": [
    "accuracy"
   ]
  },
  {
   "cell_type": "code",
   "execution_count": null,
   "id": "44c355ad-1885-4f2d-acb5-11da92036236",
   "metadata": {},
   "outputs": [],
   "source": []
  },
  {
   "cell_type": "code",
   "execution_count": null,
   "id": "22caad49-125b-4e84-800d-df5115e3015f",
   "metadata": {},
   "outputs": [],
   "source": []
  },
  {
   "cell_type": "code",
   "execution_count": null,
   "id": "b907d78d-950a-4718-85d3-51afca633d5a",
   "metadata": {},
   "outputs": [],
   "source": []
  },
  {
   "cell_type": "code",
   "execution_count": null,
   "id": "3d0dc525-bfeb-4ecd-997b-f53f144b1e72",
   "metadata": {},
   "outputs": [],
   "source": []
  },
  {
   "cell_type": "code",
   "execution_count": null,
   "id": "6d8c85b3-2d83-40fd-9d03-61c6544ed1a8",
   "metadata": {},
   "outputs": [],
   "source": []
  },
  {
   "cell_type": "code",
   "execution_count": null,
   "id": "6c46c0d3-d6da-44b4-8e9e-108ad56c0ca8",
   "metadata": {},
   "outputs": [],
   "source": []
  },
  {
   "cell_type": "code",
   "execution_count": null,
   "id": "70f754f9-242e-45ec-9859-198ac54e25c1",
   "metadata": {},
   "outputs": [],
   "source": []
  },
  {
   "cell_type": "code",
   "execution_count": null,
   "id": "bf4d10de-1e56-4aed-ba02-54f8a8e89f91",
   "metadata": {},
   "outputs": [],
   "source": []
  },
  {
   "cell_type": "code",
   "execution_count": 16,
   "id": "45266d40-c5d9-493d-9e21-139ed48ab295",
   "metadata": {},
   "outputs": [],
   "source": [
    "df = pd.DataFrame(bundle, columns = ['word', 'tag'])"
   ]
  },
  {
   "cell_type": "code",
   "execution_count": 20,
   "id": "3bfcaaff-017e-4200-8a12-7580a81c14e4",
   "metadata": {},
   "outputs": [
    {
     "data": {
      "text/plain": [
       "array(['CARD', 'VAFIN', 'ART', 'ADJA', 'APPR', 'ADJD', 'KON', 'PTKNEG',\n",
       "       'PPER', 'VVFIN', 'PIS', 'KOKOM', 'VMFIN', 'ADV', '$,', 'PWAV',\n",
       "       'VVPP', 'VVINF', 'PIAT', 'PWS', 'PTKA', 'KOUS', 'PDS', 'APPRART',\n",
       "       'NN', 'PRF', 'VMPP', 'PTKZU', 'VAINF', 'VVIZU', 'PPOSAT', 'PROAV',\n",
       "       'VMINF', 'VAIMP', 'PTKVZ', 'FM', 'APZR', '$(', 'NE', 'PWAT'],\n",
       "      dtype=object)"
      ]
     },
     "execution_count": 20,
     "metadata": {},
     "output_type": "execute_result"
    }
   ],
   "source": [
    "df.tag.unique()"
   ]
  },
  {
   "cell_type": "code",
   "execution_count": null,
   "id": "c3dce9b8-3f20-45de-b49c-99a5c3f5d817",
   "metadata": {},
   "outputs": [],
   "source": []
  },
  {
   "cell_type": "code",
   "execution_count": 1,
   "id": "e69a4845-b8c6-4b95-b718-f3b11cb3dd78",
   "metadata": {},
   "outputs": [],
   "source": [
    "def action_quotient(text):\n",
    "    \n",
    "    verbs = [\"VAFIN\", \"VVFIN\", \"VMFIN\", \"VVPP\", \"VVINF\", \"VAINF\"]\n",
    "    adjectives = [\"ADJD\"]\n",
    "    \n",
    "    bundle = tagger.tag(text.split())\n",
    "    \n",
    "    v = [t for t in bundle if t[1] in verbs]\n",
    "    a = [t for t in bundle if t[1] in adjectives]\n",
    "    \n",
    "    quotient = len(v)/len(a)\n",
    "    \n",
    "    return quotient"
   ]
  },
  {
   "cell_type": "code",
   "execution_count": null,
   "id": "1cbf3416-9b1f-492e-b8ba-3b0acac1c9dc",
   "metadata": {},
   "outputs": [],
   "source": []
  },
  {
   "cell_type": "code",
   "execution_count": null,
   "id": "89997249-7840-455a-89b7-7fe919f34a55",
   "metadata": {},
   "outputs": [],
   "source": []
  },
  {
   "cell_type": "code",
   "execution_count": 29,
   "id": "c96a5828-9f11-48ec-81de-e402671cf129",
   "metadata": {},
   "outputs": [
    {
     "data": {
      "text/plain": [
       "2.586206896551724"
      ]
     },
     "execution_count": 29,
     "metadata": {},
     "output_type": "execute_result"
    }
   ],
   "source": [
    "len(df.query('tag in @verbs'))/len(df.query('tag in @adjectives'))"
   ]
  },
  {
   "cell_type": "code",
   "execution_count": 63,
   "id": "435f1aa5-59e5-4bd0-9014-444366e93f57",
   "metadata": {},
   "outputs": [],
   "source": [
    "with open('group_name_dictionary.pkl', 'rb') as fp:\n",
    "    group_names_dict = pickle.load(fp)"
   ]
  },
  {
   "cell_type": "code",
   "execution_count": 70,
   "id": "febadd3a-98b7-4321-bdc8-3eee70c8df26",
   "metadata": {},
   "outputs": [],
   "source": [
    "group_names = [key.lower() for key, value in group_names_dict.items()]"
   ]
  },
  {
   "cell_type": "code",
   "execution_count": 243,
   "id": "291c0229-1489-4dc2-95ef-656e0b2b3966",
   "metadata": {},
   "outputs": [],
   "source": [
    "def clean_names(name_list):\n",
    "    new_name = []\n",
    "    for i in name_list:\n",
    "        i = i.replace(\" \", \"\")\n",
    "        name = ''\n",
    "        for c in i:\n",
    "            #if (c>= 'a' and c<='z') or (c>= 'A' and c<='Z') or (c>= '0' and c<='9') or (c == \"_\") or (c in ['ä', 'ö', 'ü']):\n",
    "            if c.isalpha() or c.isnumeric():\n",
    "                name += c.replace('ü', 'ue').replace('ö', 'oe').replace('ä', 'ae')#.replace(c,c)\n",
    "\n",
    "        new_name.append(name)  \n",
    "        \n",
    "    return new_name"
   ]
  },
  {
   "cell_type": "code",
   "execution_count": 244,
   "id": "1a6d9b00-14d9-4c8b-9ce9-5234f1779e27",
   "metadata": {},
   "outputs": [],
   "source": [
    "new_name = clean_names(group_names)"
   ]
  },
  {
   "cell_type": "code",
   "execution_count": 249,
   "id": "d7ef09e0-8baf-4585-902d-fdaccaa79116",
   "metadata": {},
   "outputs": [],
   "source": [
    "new_zehring = clean_names(zehring.channel_lower.tolist())"
   ]
  },
  {
   "cell_type": "code",
   "execution_count": 251,
   "id": "574dec1a-011a-4271-a5be-cbc17ac0984d",
   "metadata": {},
   "outputs": [],
   "source": [
    "intersection = [name for name in new_name if name in new_zehring]"
   ]
  },
  {
   "cell_type": "code",
   "execution_count": 255,
   "id": "1d82515e-d401-4259-b1c0-fa289750c112",
   "metadata": {},
   "outputs": [
    {
     "data": {
      "text/plain": [
       "0.2585278276481149"
      ]
     },
     "execution_count": 255,
     "metadata": {},
     "output_type": "execute_result"
    }
   ],
   "source": [
    "len(intersection)/len(new_zehring)"
   ]
  },
  {
   "cell_type": "code",
   "execution_count": 254,
   "id": "e253286e-7e85-4cc3-89f9-690155543a20",
   "metadata": {},
   "outputs": [
    {
     "data": {
      "text/plain": [
       "557"
      ]
     },
     "execution_count": 254,
     "metadata": {},
     "output_type": "execute_result"
    }
   ],
   "source": [
    "len(new_zehring)"
   ]
  },
  {
   "cell_type": "code",
   "execution_count": 217,
   "id": "4cf1c9f2-a849-4f1b-8167-c36d1ae03fd2",
   "metadata": {},
   "outputs": [
    {
     "name": "stdout",
     "output_type": "stream",
     "text": [
      "miteinanderseinplz1\n"
     ]
    }
   ],
   "source": [
    "name = ''\n",
    "for i in group_names[4]:\n",
    "    if i.isnumeric() or i.isalpha():\n",
    "        name += i\n",
    "print(name)  "
   ]
  },
  {
   "cell_type": "code",
   "execution_count": null,
   "id": "cea32854-63b3-4721-a49b-bc976450bce5",
   "metadata": {},
   "outputs": [],
   "source": []
  },
  {
   "cell_type": "code",
   "execution_count": null,
   "id": "5fd2290a-d867-412c-8c2f-a0fd37d4e6ff",
   "metadata": {},
   "outputs": [],
   "source": []
  },
  {
   "cell_type": "code",
   "execution_count": null,
   "id": "e44c05a0-cdea-43d0-b5fb-340334d32597",
   "metadata": {},
   "outputs": [],
   "source": []
  },
  {
   "cell_type": "code",
   "execution_count": null,
   "id": "c150165f-5f03-4644-b8c9-b8608da8dadb",
   "metadata": {},
   "outputs": [],
   "source": []
  },
  {
   "cell_type": "code",
   "execution_count": null,
   "id": "bcb4948b-e958-430c-8745-3052b43e96d2",
   "metadata": {},
   "outputs": [],
   "source": []
  }
 ],
 "metadata": {
  "kernelspec": {
   "display_name": "Python 3 (ipykernel)",
   "language": "python",
   "name": "python3"
  },
  "language_info": {
   "codemirror_mode": {
    "name": "ipython",
    "version": 3
   },
   "file_extension": ".py",
   "mimetype": "text/x-python",
   "name": "python",
   "nbconvert_exporter": "python",
   "pygments_lexer": "ipython3",
   "version": "3.8.11"
  }
 },
 "nbformat": 4,
 "nbformat_minor": 5
}
