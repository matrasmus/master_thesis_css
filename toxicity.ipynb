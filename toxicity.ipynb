{
 "cells": [
  {
   "cell_type": "code",
   "execution_count": 1,
   "id": "46043425-08ec-411c-9fae-aacae9c9a049",
   "metadata": {},
   "outputs": [],
   "source": [
    "import pandas as pd\n",
    "import numpy as np\n",
    "from time import sleep\n",
    "from tqdm import tqdm\n",
    "import random\n",
    "\n",
    "from googleapiclient import discovery\n",
    "import json"
   ]
  },
  {
   "cell_type": "code",
   "execution_count": 5,
   "id": "6a2e9256-9bd3-4528-b3b4-f78948d96cb1",
   "metadata": {},
   "outputs": [],
   "source": [
    "# displaying options\n",
    "pd.set_option('display.float_format', '{:.20f}'.format)\n",
    "pd.set_option('display.max_columns', None)\n",
    "pd.set_option('display.max_colwidth', None)\n",
    "# deprecation warning set off\n",
    "pd.options.mode.chained_assignment = None "
   ]
  },
  {
   "cell_type": "code",
   "execution_count": 3,
   "id": "e9b0e73e-11b6-4ea4-941f-5e65b5f01bf4",
   "metadata": {},
   "outputs": [],
   "source": [
    "data = pd.read_csv('full_analysis.csv')"
   ]
  },
  {
   "cell_type": "code",
   "execution_count": 4,
   "id": "f23db633-f0e3-41f0-afd6-a72e2c4cacab",
   "metadata": {},
   "outputs": [],
   "source": [
    "data['toxicity'] = 0"
   ]
  },
  {
   "cell_type": "code",
   "execution_count": null,
   "id": "4b8037f8-9654-40c2-8eef-53d8054bdbba",
   "metadata": {},
   "outputs": [],
   "source": []
  },
  {
   "cell_type": "code",
   "execution_count": null,
   "id": "b0e214c2-7204-4c82-bc45-02ce6f8e04d4",
   "metadata": {},
   "outputs": [],
   "source": []
  },
  {
   "cell_type": "code",
   "execution_count": 7,
   "id": "8b4b3027-91ac-44fd-905f-e178b6c1cf1c",
   "metadata": {},
   "outputs": [],
   "source": [
    " API_KEY = #<YOUR_API_KEY>\n",
    "client = discovery.build(\n",
    "  \"commentanalyzer\",\n",
    "  \"v1alpha1\",\n",
    "  developerKey=API_KEY,\n",
    "  discoveryServiceUrl=\"https://commentanalyzer.googleapis.com/$discovery/rest?version=v1alpha1\",\n",
    "  static_discovery=False,\n",
    ")"
   ]
  },
  {
   "cell_type": "code",
   "execution_count": null,
   "id": "01afa256-a932-45b7-bbfc-ef6a8fc83899",
   "metadata": {},
   "outputs": [],
   "source": []
  },
  {
   "cell_type": "code",
   "execution_count": 16,
   "id": "d5c0c1eb-94e7-469c-9366-c7c46a1482a9",
   "metadata": {},
   "outputs": [],
   "source": [
    "def toxicity_detection(sentences):\n",
    "    toxic = []\n",
    "    for sent in sentences:\n",
    "        analyze_request = {\n",
    "            'comment': { 'text': f\"{sent}\" },\n",
    "            'languages' : [\"de\"],\n",
    "            'requestedAttributes': {'TOXICITY': {}},\n",
    "        }\n",
    "\n",
    "        response = client.comments().analyze(body=analyze_request).execute()\n",
    "        j = json.dumps(response, indent=2)\n",
    "        #print(json.loads(j)['attributeScores']['TOXICITY']['summaryScore']['value'])\n",
    "        toxic.append(json.loads(j)['attributeScores']['TOXICITY']['summaryScore']['value'])\n",
    "    return sum(toxic)/len(toxic)"
   ]
  },
  {
   "cell_type": "code",
   "execution_count": 34,
   "id": "9225bc74-cacb-44a0-bc4f-0b94ff4f16a6",
   "metadata": {},
   "outputs": [],
   "source": [
    "#only conspiratorial messages\n",
    "conspiracy = con2.query('is_CHEM_algo != 0 or is_REICH_algo != 0 or is_PIZZA_algo != 0 or is_Q_algo != 0')"
   ]
  },
  {
   "cell_type": "code",
   "execution_count": 31,
   "id": "1bc80225-a16f-46ce-948f-a8a573e9ab1c",
   "metadata": {},
   "outputs": [],
   "source": [
    "#for i in data.messages_processed:\n",
    "    \n",
    "sentences = []\n",
    "for text in conspiracy.messages_processed:\n",
    "    tmp = [sent for sent in text.split('  ') if len(sent.split()) > 5]\n",
    "    if (len(tmp) > 100):\n",
    "        tmp = random.sample(tmp, 100)\n",
    "    if (len(tmp) > 5):\n",
    "        sentences.append(len(tmp))"
   ]
  },
  {
   "cell_type": "code",
   "execution_count": null,
   "id": "45266d40-c5d9-493d-9e21-139ed48ab295",
   "metadata": {},
   "outputs": [],
   "source": [
    "tmp = [sent for sent in text.split('  ') if len(sent.split()) > 5]\n",
    "    if (len(tmp) > 100):\n",
    "        tmp = random.sample(tmp, 100)\n",
    "    if (len(tmp) > 20):"
   ]
  },
  {
   "cell_type": "code",
   "execution_count": 13,
   "id": "2853acc4-af18-4a6b-b3b8-61088d61ca89",
   "metadata": {},
   "outputs": [],
   "source": [
    "n= 10000\n",
    "list_df = [con2[i:i+n] for i in range(0,len(con2),n)]"
   ]
  },
  {
   "cell_type": "code",
   "execution_count": 67,
   "id": "c3dce9b8-3f20-45de-b49c-99a5c3f5d817",
   "metadata": {},
   "outputs": [
    {
     "name": "stderr",
     "output_type": "stream",
     "text": [
      "100%|███████████████████████████████████████████████████████████████████████████████| 9999/9999 [02:29<00:00, 66.67it/s]\n",
      "100%|███████████████████████████████████████████████████████████████████████████████| 9999/9999 [03:25<00:00, 48.73it/s]\n",
      "100%|███████████████████████████████████████████████████████████████████████████████| 9999/9999 [03:21<00:00, 49.54it/s]\n",
      "100%|███████████████████████████████████████████████████████████████████████████████| 9999/9999 [02:20<00:00, 71.12it/s]\n",
      "100%|███████████████████████████████████████████████████████████████████████████████| 9999/9999 [02:14<00:00, 74.16it/s]\n",
      "100%|███████████████████████████████████████████████████████████████████████████████| 9999/9999 [02:38<00:00, 63.09it/s]\n",
      "100%|███████████████████████████████████████████████████████████████████████████████| 9999/9999 [03:38<00:00, 45.79it/s]\n",
      "100%|███████████████████████████████████████████████████████████████████████████████| 4544/4544 [01:04<00:00, 70.16it/s]\n"
     ]
    }
   ],
   "source": [
    "final_toxic_list = []\n",
    "for df in list_df:\n",
    "    for i in tqdm(range(len(df)-1)):\n",
    "        row = df.iloc[i]\n",
    "        toxic = []\n",
    "        if ((row['is_CHEM_algo']+row['is_REICH_algo']+row['is_Q_algo']+row['is_PIZZA_algo'] > 0) and (row['toxicity'] == 0)): \n",
    "\n",
    "            tmp = [sent for sent in row.messages_processed.split('  ') if len(sent.split()) > 5]\n",
    "            \n",
    "            if (len(tmp) > 100):\n",
    "                tmp = random.sample(tmp, 100)\n",
    "            if (len(tmp) > 1):\n",
    "                row['toxicity'] = toxicity_detection(tmp)\n",
    "                #row['toxicity'] = len(toxic) and sum(toxic)/len(toxic) or 0\n",
    "                \n",
    "        df.iloc[i] = row\n",
    "        \n",
    "        \n",
    "        \n",
    "        #df.at[i, 'toxicity'] = toxic\n",
    "    final_toxic_list.append(df)"
   ]
  },
  {
   "cell_type": "code",
   "execution_count": 68,
   "id": "2dbdcc4a-261e-429e-a8b3-21d12545e94c",
   "metadata": {},
   "outputs": [],
   "source": [
    "con = pd.concat(final_toxic_list)"
   ]
  },
  {
   "cell_type": "code",
   "execution_count": 233,
   "id": "c52fc52c-57fc-473d-8676-bf203f41adc2",
   "metadata": {},
   "outputs": [],
   "source": [
    "con.to_csv('fa_toxic.csv')"
   ]
  },
  {
   "cell_type": "code",
   "execution_count": null,
   "id": "6b5aa06b-e39b-453b-b90c-247da7316f0e",
   "metadata": {},
   "outputs": [],
   "source": []
  }
 ],
 "metadata": {
  "kernelspec": {
   "display_name": "Python 3 (ipykernel)",
   "language": "python",
   "name": "python3"
  },
  "language_info": {
   "codemirror_mode": {
    "name": "ipython",
    "version": 3
   },
   "file_extension": ".py",
   "mimetype": "text/x-python",
   "name": "python",
   "nbconvert_exporter": "python",
   "pygments_lexer": "ipython3",
   "version": "3.8.11"
  }
 },
 "nbformat": 4,
 "nbformat_minor": 5
}
